{
 "cells": [
  {
   "cell_type": "markdown",
   "metadata": {
    "toc": true
   },
   "source": [
    "<h1>Table of Contents<span class=\"tocSkip\"></span></h1>\n",
    "<div class=\"toc\"><ul class=\"toc-item\"><li><span><a href=\"#Exploring-Weather-Trends---Project-Instructions\" data-toc-modified-id=\"Exploring-Weather-Trends---Project-Instructions-1\"><span class=\"toc-item-num\">1&nbsp;&nbsp;</span>Exploring Weather Trends - Project Instructions</a></span><ul class=\"toc-item\"><li><span><a href=\"#Summary\" data-toc-modified-id=\"Summary-1.1\"><span class=\"toc-item-num\">1.1&nbsp;&nbsp;</span>Summary</a></span></li><li><span><a href=\"#Instructions\" data-toc-modified-id=\"Instructions-1.2\"><span class=\"toc-item-num\">1.2&nbsp;&nbsp;</span>Instructions</a></span></li><li><span><a href=\"#Submission\" data-toc-modified-id=\"Submission-1.3\"><span class=\"toc-item-num\">1.3&nbsp;&nbsp;</span>Submission</a></span></li><li><span><a href=\"#Rubric\" data-toc-modified-id=\"Rubric-1.4\"><span class=\"toc-item-num\">1.4&nbsp;&nbsp;</span>Rubric</a></span></li></ul></li><li><span><a href=\"#Extract-the-data\" data-toc-modified-id=\"Extract-the-data-2\"><span class=\"toc-item-num\">2&nbsp;&nbsp;</span>Extract the data</a></span><ul class=\"toc-item\"><li><span><a href=\"#Write-a-SQL-query-to-extract-the-city-level-data.-Export-to-CSV.\" data-toc-modified-id=\"Write-a-SQL-query-to-extract-the-city-level-data.-Export-to-CSV.-2.1\"><span class=\"toc-item-num\">2.1&nbsp;&nbsp;</span>Write a SQL query to extract the city level data. Export to CSV.</a></span></li><li><span><a href=\"#Write-a-SQL-query-to-extract-the-global-data.-Export-to-CSV.\" data-toc-modified-id=\"Write-a-SQL-query-to-extract-the-global-data.-Export-to-CSV.-2.2\"><span class=\"toc-item-num\">2.2&nbsp;&nbsp;</span>Write a SQL query to extract the global data. Export to CSV.</a></span></li></ul></li><li><span><a href=\"#Open-up-the-CSV\" data-toc-modified-id=\"Open-up-the-CSV-3\"><span class=\"toc-item-num\">3&nbsp;&nbsp;</span>Open up the CSV</a></span><ul class=\"toc-item\"><li><span><a href=\"#guarulhos_city_data.csv\" data-toc-modified-id=\"guarulhos_city_data.csv-3.1\"><span class=\"toc-item-num\">3.1&nbsp;&nbsp;</span>guarulhos_city_data.csv</a></span></li><li><span><a href=\"#global_data.csv\" data-toc-modified-id=\"global_data.csv-3.2\"><span class=\"toc-item-num\">3.2&nbsp;&nbsp;</span>global_data.csv</a></span></li></ul></li><li><span><a href=\"#Create-a-line-chart\" data-toc-modified-id=\"Create-a-line-chart-4\"><span class=\"toc-item-num\">4&nbsp;&nbsp;</span>Create a line chart</a></span><ul class=\"toc-item\"><li><span><a href=\"#City-temperatures\" data-toc-modified-id=\"City-temperatures-4.1\"><span class=\"toc-item-num\">4.1&nbsp;&nbsp;</span>City temperatures</a></span></li><li><span><a href=\"#Global-temperatures\" data-toc-modified-id=\"Global-temperatures-4.2\"><span class=\"toc-item-num\">4.2&nbsp;&nbsp;</span>Global temperatures</a></span></li></ul></li><li><span><a href=\"#Make-observations\" data-toc-modified-id=\"Make-observations-5\"><span class=\"toc-item-num\">5&nbsp;&nbsp;</span>Make observations</a></span><ul class=\"toc-item\"><li><span><a href=\"#Is-your-city-hotter-or-cooler-on-average-compared-to-the-global-average?-Has-the-difference-been-consistent-over-time?\" data-toc-modified-id=\"Is-your-city-hotter-or-cooler-on-average-compared-to-the-global-average?-Has-the-difference-been-consistent-over-time?-5.1\"><span class=\"toc-item-num\">5.1&nbsp;&nbsp;</span>Is your city hotter or cooler on average compared to the global average? Has the difference been consistent over time?</a></span></li><li><span><a href=\"#How-do-the-changes-in-your-city’s-temperatures-over-time-compare-to-the-changes-in-the-global-average?\" data-toc-modified-id=\"How-do-the-changes-in-your-city’s-temperatures-over-time-compare-to-the-changes-in-the-global-average?-5.2\"><span class=\"toc-item-num\">5.2&nbsp;&nbsp;</span>How do the changes in your city’s temperatures over time compare to the changes in the global average?</a></span></li><li><span><a href=\"#What-does-the-overall-trend-look-like?-Is-the-world-getting-hotter-or-cooler?-Has-the-trend-been-consistent-over-the-last-few-hundred-years?\" data-toc-modified-id=\"What-does-the-overall-trend-look-like?-Is-the-world-getting-hotter-or-cooler?-Has-the-trend-been-consistent-over-the-last-few-hundred-years?-5.3\"><span class=\"toc-item-num\">5.3&nbsp;&nbsp;</span>What does the overall trend look like? Is the world getting hotter or cooler? Has the trend been consistent over the last few hundred years?</a></span></li></ul></li><li><span><a href=\"#Steps-taken-to-prepare-the-data-to-be-visualized-in-the-chart\" data-toc-modified-id=\"Steps-taken-to-prepare-the-data-to-be-visualized-in-the-chart-6\"><span class=\"toc-item-num\">6&nbsp;&nbsp;</span>Steps taken to prepare the data to be visualized in the chart</a></span><ul class=\"toc-item\"><li><span><a href=\"#What-tools-did-you-use-for-each-step?-(Python,-SQL,-Excel,-etc)\" data-toc-modified-id=\"What-tools-did-you-use-for-each-step?-(Python,-SQL,-Excel,-etc)-6.1\"><span class=\"toc-item-num\">6.1&nbsp;&nbsp;</span>What tools did you use for each step? (Python, SQL, Excel, etc)</a></span></li><li><span><a href=\"#How-did-you-calculate-the-moving-average?\" data-toc-modified-id=\"How-did-you-calculate-the-moving-average?-6.2\"><span class=\"toc-item-num\">6.2&nbsp;&nbsp;</span>How did you calculate the moving average?</a></span></li><li><span><a href=\"#What-were-your-key-considerations-when-deciding-how-to-visualize-the-trends?\" data-toc-modified-id=\"What-were-your-key-considerations-when-deciding-how-to-visualize-the-trends?-6.3\"><span class=\"toc-item-num\">6.3&nbsp;&nbsp;</span>What were your key considerations when deciding how to visualize the trends?</a></span></li></ul></li><li><span><a href=\"#Suggestions-to-Make-Your-Project-Stand-Out\" data-toc-modified-id=\"Suggestions-to-Make-Your-Project-Stand-Out-7\"><span class=\"toc-item-num\">7&nbsp;&nbsp;</span>Suggestions to Make Your Project Stand Out</a></span><ul class=\"toc-item\"><li><span><a href=\"#What's-the-correlation-coefficient?\" data-toc-modified-id=\"What's-the-correlation-coefficient?-7.1\"><span class=\"toc-item-num\">7.1&nbsp;&nbsp;</span>What's the correlation coefficient?</a></span></li><li><span><a href=\"#Can-you-estimate-the-average-temperature-in-your-city-based-on-the-average-global-temperature?\" data-toc-modified-id=\"Can-you-estimate-the-average-temperature-in-your-city-based-on-the-average-global-temperature?-7.2\"><span class=\"toc-item-num\">7.2&nbsp;&nbsp;</span>Can you estimate the average temperature in your city based on the average global temperature?</a></span></li><li><span><a href=\"#Multiple-cities---Add-your-favorite-cities-from-around-the-globe-to-your-visualization.-What-do-you-learn-about-them?\" data-toc-modified-id=\"Multiple-cities---Add-your-favorite-cities-from-around-the-globe-to-your-visualization.-What-do-you-learn-about-them?-7.3\"><span class=\"toc-item-num\">7.3&nbsp;&nbsp;</span>Multiple cities - Add your favorite cities from around the globe to your visualization. What do you learn about them?</a></span></li></ul></li></ul></div>"
   ]
  },
  {
   "cell_type": "code",
   "execution_count": 1,
   "metadata": {},
   "outputs": [],
   "source": [
    "import pandas as pd"
   ]
  },
  {
   "cell_type": "markdown",
   "metadata": {},
   "source": [
    "# Exploring Weather Trends - Project Instructions\n",
    "\n",
    "## Summary\n",
    "In this project, you will analyze local and global temperature data and compare the temperature trends where you live to overall global temperature trends.\n",
    "\n",
    "## Instructions\n",
    "Your goal will be to create a visualization and prepare a write up describing the similarities and differences between global temperature trends and temperature trends in the closest big city to where you live. To do this, you’ll follow the steps below:\n",
    "* **Extract the data** from the database. There's a workspace in the next section that is connected to a database. You’ll need to export the temperature data for the world as well as for the closest big city to where you live. You can find a list of cities and countries in the `city_list` table. To interact with the database, you'll need to write a SQL query.\n",
    " * Write a SQL query to extract the city level data. Export to CSV.\n",
    " * Write a SQL query to extract the global data. Export to CSV.\n",
    "* **Open up the CSV** in whatever tool you feel most comfortable using. We suggest using Excel or Google sheets, but you are welcome to use another tool, such as Python or R.\n",
    "* **Create a line chart** that compares your city’s temperatures with the global temperatures. Make sure to plot the _moving average_ rather than the yearly averages in order to smooth out the lines, making trends more observable (the last concept in the previous lesson goes over how to do this in a spreadsheet).\n",
    "* **Make observations** about the similarities and differences between the world averages and your city’s averages, as well as overall trends. Here are some questions to get you started.\n",
    " * Is your city hotter or cooler on average compared to the global average? Has the difference been consistent over time?\n",
    " * “How do the changes in your city’s temperatures over time compare to the changes in the global average?”\n",
    " * What does the overall trend look like? Is the world getting hotter or cooler? Has the trend been consistent over the last few hundred years?\n",
    " \n",
    "## Submission\n",
    "Your submission should be a PDF that includes:\n",
    "* **An outline** of steps taken to prepare the data to be visualized in the chart, such as:\n",
    " * What tools did you use for each step? (Python, SQL, Excel, etc)\n",
    " * How did you calculate the moving average?\n",
    " * What were your key considerations when deciding how to visualize the trends?\n",
    "* **Line chart** with local and global temperature trends\n",
    "* At least **four observations** about the similarities and/or differences in the trends\n",
    "\n",
    "## Rubric\n",
    "A Udacity reviewer will assess your project based on the criteria in the project rubric. Use the rubric as a guide while you complete the project, then give yourself a quick self-assessment before you submit it.\n",
    "\n",
    "If you're on this page, then you should have completed your exploration of local and global temperature trends. Congratulations! Before you submit your project, make sure to check the following points:\n",
    "\n",
    "* Please submit your project as a PDF. Your report should include documentation of the steps in your analysis, a line chart depicting the local and global temperature data, and your observations regarding the trends.\n",
    "* Don't forget to review the rubric! Reviewers will use the rubric to assess your work, so make sure it 'meets specifications' on all points before you submit.\n",
    "\n",
    "Once you've checked the above, click on the \"Submit Project\" button below to go to the project submission page. After you submit your project, it can take up to a week for it to be evaluated. Most of the time, it is much faster! In the meantime, you can feel free to continue to other parts of the program to continue your learning!"
   ]
  },
  {
   "cell_type": "markdown",
   "metadata": {},
   "source": [
    "# Extract the data"
   ]
  },
  {
   "cell_type": "markdown",
   "metadata": {},
   "source": [
    "## Write a SQL query to extract the city level data. Export to CSV."
   ]
  },
  {
   "cell_type": "markdown",
   "metadata": {},
   "source": [
    "```SQL\n",
    "-- Average temperatures for Guarulhos city by year (ºC).\n",
    "SELECT * FROM city_data\n",
    "  WHERE city = 'Guarulhos'\n",
    "  AND avg_temp IS NOT NULL;\n",
    "```"
   ]
  },
  {
   "cell_type": "markdown",
   "metadata": {},
   "source": [
    "## Write a SQL query to extract the global data. Export to CSV."
   ]
  },
  {
   "cell_type": "markdown",
   "metadata": {},
   "source": [
    "```SQL\n",
    "-- Average global temperatures by year (ºC).\n",
    "SELECT * FROM global_data;\n",
    "```"
   ]
  },
  {
   "cell_type": "markdown",
   "metadata": {},
   "source": [
    "# Open up the CSV"
   ]
  },
  {
   "cell_type": "markdown",
   "metadata": {},
   "source": [
    "## guarulhos_city_data.csv"
   ]
  },
  {
   "cell_type": "code",
   "execution_count": 1,
   "metadata": {
    "scrolled": false
   },
   "outputs": [
    {
     "ename": "NameError",
     "evalue": "name 'pd' is not defined",
     "output_type": "error",
     "traceback": [
      "\u001b[0;31m---------------------------------------------------------------------------\u001b[0m",
      "\u001b[0;31mNameError\u001b[0m                                 Traceback (most recent call last)",
      "\u001b[0;32m<ipython-input-1-5f602029105b>\u001b[0m in \u001b[0;36m<module>\u001b[0;34m\u001b[0m\n\u001b[0;32m----> 1\u001b[0;31m \u001b[0mguarulhos_city_data\u001b[0m \u001b[0;34m=\u001b[0m \u001b[0mpd\u001b[0m\u001b[0;34m.\u001b[0m\u001b[0mread_csv\u001b[0m\u001b[0;34m(\u001b[0m\u001b[0;34m\"./data/guarulhos_city_data.csv\"\u001b[0m\u001b[0;34m)\u001b[0m\u001b[0;34m\u001b[0m\u001b[0;34m\u001b[0m\u001b[0m\n\u001b[0m\u001b[1;32m      2\u001b[0m \u001b[0mprint\u001b[0m\u001b[0;34m(\u001b[0m\u001b[0mguarulhos_city_data\u001b[0m\u001b[0;34m)\u001b[0m\u001b[0;34m\u001b[0m\u001b[0;34m\u001b[0m\u001b[0m\n",
      "\u001b[0;31mNameError\u001b[0m: name 'pd' is not defined"
     ]
    }
   ],
   "source": [
    "guarulhos_city_data = pd.read_csv(\"./data/guarulhos_city_data.csv\")\n",
    "print(guarulhos_city_data)"
   ]
  },
  {
   "cell_type": "markdown",
   "metadata": {},
   "source": [
    "## global_data.csv"
   ]
  },
  {
   "cell_type": "code",
   "execution_count": 2,
   "metadata": {
    "scrolled": false
   },
   "outputs": [
    {
     "ename": "NameError",
     "evalue": "name 'pd' is not defined",
     "output_type": "error",
     "traceback": [
      "\u001b[0;31m---------------------------------------------------------------------------\u001b[0m",
      "\u001b[0;31mNameError\u001b[0m                                 Traceback (most recent call last)",
      "\u001b[0;32m<ipython-input-2-37f7d51a749f>\u001b[0m in \u001b[0;36m<module>\u001b[0;34m\u001b[0m\n\u001b[0;32m----> 1\u001b[0;31m \u001b[0mglobal_data\u001b[0m \u001b[0;34m=\u001b[0m \u001b[0mpd\u001b[0m\u001b[0;34m.\u001b[0m\u001b[0mread_csv\u001b[0m\u001b[0;34m(\u001b[0m\u001b[0;34m\"./data/global_data.csv\"\u001b[0m\u001b[0;34m)\u001b[0m\u001b[0;34m\u001b[0m\u001b[0;34m\u001b[0m\u001b[0m\n\u001b[0m\u001b[1;32m      2\u001b[0m \u001b[0mprint\u001b[0m\u001b[0;34m(\u001b[0m\u001b[0mglobal_data\u001b[0m\u001b[0;34m)\u001b[0m\u001b[0;34m\u001b[0m\u001b[0;34m\u001b[0m\u001b[0m\n",
      "\u001b[0;31mNameError\u001b[0m: name 'pd' is not defined"
     ]
    }
   ],
   "source": [
    "global_data = pd.read_csv(\"./data/global_data.csv\")\n",
    "print(global_data)"
   ]
  },
  {
   "cell_type": "markdown",
   "metadata": {},
   "source": [
    "# Create a line chart"
   ]
  },
  {
   "cell_type": "markdown",
   "metadata": {},
   "source": [
    "## City temperatures"
   ]
  },
  {
   "cell_type": "markdown",
   "metadata": {},
   "source": [
    "![Image](./image/guarulhos_city_data_year_c.svg)"
   ]
  },
  {
   "cell_type": "markdown",
   "metadata": {},
   "source": [
    "## Global temperatures"
   ]
  },
  {
   "cell_type": "markdown",
   "metadata": {},
   "source": [
    "![Image](./image/global_data_year_c.svg)"
   ]
  },
  {
   "cell_type": "markdown",
   "metadata": {},
   "source": [
    "# Make observations"
   ]
  },
  {
   "cell_type": "markdown",
   "metadata": {},
   "source": [
    "## Is your city hotter or cooler on average compared to the global average? Has the difference been consistent over time?"
   ]
  },
  {
   "cell_type": "markdown",
   "metadata": {},
   "source": [
    "Guarulhos city temperature average is hotter compared to the global average. Yes, the slope line seems very similar in two plots."
   ]
  },
  {
   "cell_type": "markdown",
   "metadata": {},
   "source": [
    "## How do the changes in your city’s temperatures over time compare to the changes in the global average?"
   ]
  },
  {
   "cell_type": "markdown",
   "metadata": {},
   "source": [
    "In my city the temperature average is not much linear, with more fluctuations in same period compared to the global average."
   ]
  },
  {
   "cell_type": "markdown",
   "metadata": {},
   "source": [
    "## What does the overall trend look like? Is the world getting hotter or cooler? Has the trend been consistent over the last few hundred years?"
   ]
  },
  {
   "cell_type": "markdown",
   "metadata": {},
   "source": [
    "In the graph we see the line approaching to the 10°C. The world is getting hotter.\n",
    "![Image](./image/global_data_few_hundred_year_c.svg)\n",
    "In the last few hundred years we see the line approaching to the 10°C, it is consistent to the overall trend looks like."
   ]
  },
  {
   "cell_type": "markdown",
   "metadata": {},
   "source": [
    "# Steps taken to prepare the data to be visualized in the chart"
   ]
  },
  {
   "cell_type": "markdown",
   "metadata": {},
   "source": [
    "## What tools did you use for each step? (Python, SQL, Excel, etc)"
   ]
  },
  {
   "cell_type": "markdown",
   "metadata": {},
   "source": [
    "Google Sheets. I opened each csv file in separate document, than I create a new document and copy all previous document data into new document in separate sheets. I plotted the graph into a new sheet of this document."
   ]
  },
  {
   "cell_type": "markdown",
   "metadata": {},
   "source": [
    "## How did you calculate the moving average?"
   ]
  },
  {
   "cell_type": "markdown",
   "metadata": {},
   "source": [
    "I used the `AVERAGE()` function of Google Sheets selecting the previous 10 cells of column `avg_temp`, corresponding the 10 past years registred. I clicked and dragged the formula down to the next cell until reach the last one."
   ]
  },
  {
   "cell_type": "markdown",
   "metadata": {},
   "source": [
    "## What were your key considerations when deciding how to visualize the trends?"
   ]
  },
  {
   "cell_type": "markdown",
   "metadata": {},
   "source": [
    "I removed all null `avg_temp` field value to extract `CSV` file of `city_data` table. To plot graph I considered the same minimum and maximum year to show the same period. I scaled y-axes to same range of temperature, so it would be easier to see the distance between two lines."
   ]
  },
  {
   "cell_type": "markdown",
   "metadata": {},
   "source": [
    "# Suggestions to Make Your Project Stand Out"
   ]
  },
  {
   "cell_type": "markdown",
   "metadata": {},
   "source": [
    "## What's the correlation coefficient?"
   ]
  },
  {
   "cell_type": "markdown",
   "metadata": {},
   "source": [
    "Is a measure of the linear correlation between two variables.  it has a value between +1 and −1, where 1 is total positive linear correlation, 0 is no linear correlation, and −1 is total negative linear correlation. It is widely used in the sciences.\n",
    "\n",
    ">source: https://en.wikipedia.org/wiki/Pearson_correlation_coefficient"
   ]
  },
  {
   "cell_type": "markdown",
   "metadata": {},
   "source": [
    "## Can you estimate the average temperature in your city based on the average global temperature?"
   ]
  },
  {
   "cell_type": "markdown",
   "metadata": {},
   "source": [
    "**Data extraction**\n",
    "```SQL\n",
    "  SELECT cd.year\n",
    "       , cd.avg_temp AS cd_avg_temp\n",
    "       , gd.avg_temp AS gd_avg_temp\n",
    "    FROM global_data AS gd\n",
    "    JOIN city_data AS cd\n",
    "      ON cd.year = gd.year\n",
    "   WHERE cd.avg_temp IS NOT NULL\n",
    "     AND cd.city = 'Guarulhos';\n",
    "```"
   ]
  },
  {
   "cell_type": "markdown",
   "metadata": {},
   "source": [
    "**Save data into `guarulhos_city_global_data.csv` file**"
   ]
  },
  {
   "cell_type": "code",
   "execution_count": 3,
   "metadata": {
    "scrolled": false
   },
   "outputs": [
    {
     "ename": "NameError",
     "evalue": "name 'pd' is not defined",
     "output_type": "error",
     "traceback": [
      "\u001b[0;31m---------------------------------------------------------------------------\u001b[0m",
      "\u001b[0;31mNameError\u001b[0m                                 Traceback (most recent call last)",
      "\u001b[0;32m<ipython-input-3-9d76884ebcf0>\u001b[0m in \u001b[0;36m<module>\u001b[0;34m\u001b[0m\n\u001b[0;32m----> 1\u001b[0;31m \u001b[0mguarulhos_city_global_data\u001b[0m \u001b[0;34m=\u001b[0m \u001b[0mpd\u001b[0m\u001b[0;34m.\u001b[0m\u001b[0mread_csv\u001b[0m\u001b[0;34m(\u001b[0m\u001b[0;34m\"./data/guarulhos_city_global_data.csv\"\u001b[0m\u001b[0;34m)\u001b[0m\u001b[0;34m\u001b[0m\u001b[0;34m\u001b[0m\u001b[0m\n\u001b[0m\u001b[1;32m      2\u001b[0m \u001b[0mprint\u001b[0m\u001b[0;34m(\u001b[0m\u001b[0mguarulhos_city_global_data\u001b[0m\u001b[0;34m)\u001b[0m\u001b[0;34m\u001b[0m\u001b[0;34m\u001b[0m\u001b[0m\n",
      "\u001b[0;31mNameError\u001b[0m: name 'pd' is not defined"
     ]
    }
   ],
   "source": [
    "guarulhos_city_global_data = pd.read_csv(\"./data/guarulhos_city_global_data.csv\")\n",
    "print(guarulhos_city_global_data)"
   ]
  },
  {
   "cell_type": "markdown",
   "metadata": {},
   "source": [
    "**Import `CSV` file into Google Sheet and use `correl()` function using `cd_avg_temp` and `gd_avg_temp` as parameters**"
   ]
  },
  {
   "cell_type": "markdown",
   "metadata": {},
   "source": [
    "Coefficient of correlation is equal to `0.7944540448`"
   ]
  },
  {
   "cell_type": "markdown",
   "metadata": {},
   "source": [
    "**Scatter plot with `gd_avg_temp` as x-axis and `cd_avg_temp` as y-axis**\n",
    "![Image](./image/scatter_guarulhos_city_data_year_c.svg)"
   ]
  },
  {
   "cell_type": "markdown",
   "metadata": {},
   "source": [
    "**Predicting value with Regression function**\n",
    "\n",
    "Is possible use $8.19 \\times ln(x) + 2.18$ where $x$ = `gd_avg_temp`"
   ]
  },
  {
   "cell_type": "markdown",
   "metadata": {},
   "source": [
    "## Multiple cities - Add your favorite cities from around the globe to your visualization. What do you learn about them?"
   ]
  },
  {
   "cell_type": "markdown",
   "metadata": {},
   "source": [
    "**Data extraction**\n",
    "```SQL\n",
    "-- Average temperatures for Rio de Janeiro city by year (ºC).\n",
    "SELECT * FROM city_data\n",
    " WHERE city = 'Rio De Janeiro'\n",
    "   AND avg_temp IS NOT NULL;\n",
    "\n",
    "-- Average temperatures for Dublin city by year (ºC).\n",
    "SELECT * FROM city_data\n",
    " WHERE city = 'Dublin'\n",
    "   AND avg_temp IS NOT NULL;\n",
    "\n",
    "-- Average temperatures for Dallas city by year (ºC).\n",
    "SELECT * FROM city_data\n",
    " WHERE city = 'Dallas'\n",
    "   AND avg_temp IS NOT NULL;\n",
    "```"
   ]
  },
  {
   "cell_type": "markdown",
   "metadata": {},
   "source": [
    "**Save data into `rio_de_janeiro_city_data.csv` file**"
   ]
  },
  {
   "cell_type": "code",
   "execution_count": 5,
   "metadata": {
    "scrolled": false
   },
   "outputs": [
    {
     "name": "stdout",
     "output_type": "stream",
     "text": [
      "     year            city country  avg_temp\n",
      "0    1832  Rio De Janeiro  Brazil     23.05\n",
      "1    1833  Rio De Janeiro  Brazil     24.11\n",
      "2    1834  Rio De Janeiro  Brazil     23.27\n",
      "3    1835  Rio De Janeiro  Brazil     22.73\n",
      "4    1836  Rio De Janeiro  Brazil     22.91\n",
      "5    1837  Rio De Janeiro  Brazil     22.29\n",
      "6    1838  Rio De Janeiro  Brazil     22.81\n",
      "7    1839  Rio De Janeiro  Brazil     22.54\n",
      "8    1840  Rio De Janeiro  Brazil     23.32\n",
      "9    1841  Rio De Janeiro  Brazil     22.97\n",
      "10   1842  Rio De Janeiro  Brazil     23.41\n",
      "11   1843  Rio De Janeiro  Brazil     23.55\n",
      "12   1851  Rio De Janeiro  Brazil     23.53\n",
      "13   1852  Rio De Janeiro  Brazil     23.74\n",
      "14   1853  Rio De Janeiro  Brazil     23.76\n",
      "15   1854  Rio De Janeiro  Brazil     23.83\n",
      "16   1855  Rio De Janeiro  Brazil     23.89\n",
      "17   1856  Rio De Janeiro  Brazil     22.83\n",
      "18   1857  Rio De Janeiro  Brazil     23.46\n",
      "19   1858  Rio De Janeiro  Brazil     22.37\n",
      "20   1859  Rio De Janeiro  Brazil     23.04\n",
      "21   1860  Rio De Janeiro  Brazil     23.91\n",
      "22   1861  Rio De Janeiro  Brazil     23.04\n",
      "23   1862  Rio De Janeiro  Brazil     23.04\n",
      "24   1863  Rio De Janeiro  Brazil     22.95\n",
      "25   1864  Rio De Janeiro  Brazil     23.02\n",
      "26   1865  Rio De Janeiro  Brazil     22.89\n",
      "27   1866  Rio De Janeiro  Brazil     23.10\n",
      "28   1867  Rio De Janeiro  Brazil     23.26\n",
      "29   1868  Rio De Janeiro  Brazil     24.32\n",
      "..    ...             ...     ...       ...\n",
      "145  1984  Rio De Janeiro  Brazil     24.62\n",
      "146  1985  Rio De Janeiro  Brazil     24.10\n",
      "147  1986  Rio De Janeiro  Brazil     24.75\n",
      "148  1987  Rio De Janeiro  Brazil     24.55\n",
      "149  1988  Rio De Janeiro  Brazil     24.00\n",
      "150  1989  Rio De Janeiro  Brazil     24.07\n",
      "151  1990  Rio De Janeiro  Brazil     24.64\n",
      "152  1991  Rio De Janeiro  Brazil     24.25\n",
      "153  1992  Rio De Janeiro  Brazil     24.24\n",
      "154  1993  Rio De Janeiro  Brazil     24.65\n",
      "155  1994  Rio De Janeiro  Brazil     24.71\n",
      "156  1995  Rio De Janeiro  Brazil     24.77\n",
      "157  1996  Rio De Janeiro  Brazil     24.28\n",
      "158  1997  Rio De Janeiro  Brazil     24.71\n",
      "159  1998  Rio De Janeiro  Brazil     24.78\n",
      "160  1999  Rio De Janeiro  Brazil     24.01\n",
      "161  2000  Rio De Janeiro  Brazil     24.36\n",
      "162  2001  Rio De Janeiro  Brazil     24.99\n",
      "163  2002  Rio De Janeiro  Brazil     25.18\n",
      "164  2003  Rio De Janeiro  Brazil     24.90\n",
      "165  2004  Rio De Janeiro  Brazil     24.24\n",
      "166  2005  Rio De Janeiro  Brazil     24.79\n",
      "167  2006  Rio De Janeiro  Brazil     24.57\n",
      "168  2007  Rio De Janeiro  Brazil     24.78\n",
      "169  2008  Rio De Janeiro  Brazil     24.26\n",
      "170  2009  Rio De Janeiro  Brazil     24.98\n",
      "171  2010  Rio De Janeiro  Brazil     24.95\n",
      "172  2011  Rio De Janeiro  Brazil     24.32\n",
      "173  2012  Rio De Janeiro  Brazil     24.84\n",
      "174  2013  Rio De Janeiro  Brazil     25.19\n",
      "\n",
      "[175 rows x 4 columns]\n"
     ]
    }
   ],
   "source": [
    "rio_de_janeiro_city_data = pd.read_csv(\"./data/rio_de_janeiro_city_data.csv\")\n",
    "print(rio_de_janeiro_city_data)"
   ]
  },
  {
   "cell_type": "markdown",
   "metadata": {},
   "source": [
    "**Save data into `dublin_city_data.csv` file**"
   ]
  },
  {
   "cell_type": "code",
   "execution_count": 6,
   "metadata": {},
   "outputs": [
    {
     "name": "stdout",
     "output_type": "stream",
     "text": [
      "     year    city  country  avg_temp\n",
      "0    1743  Dublin  Ireland      6.80\n",
      "1    1744  Dublin  Ireland      9.28\n",
      "2    1745  Dublin  Ireland      4.32\n",
      "3    1750  Dublin  Ireland      9.32\n",
      "4    1751  Dublin  Ireland      9.12\n",
      "5    1752  Dublin  Ireland      6.28\n",
      "6    1753  Dublin  Ireland      8.63\n",
      "7    1754  Dublin  Ireland      8.59\n",
      "8    1755  Dublin  Ireland      8.29\n",
      "9    1756  Dublin  Ireland      8.75\n",
      "10   1757  Dublin  Ireland      8.72\n",
      "11   1758  Dublin  Ireland      7.83\n",
      "12   1759  Dublin  Ireland      8.82\n",
      "13   1760  Dublin  Ireland      8.14\n",
      "14   1761  Dublin  Ireland      8.95\n",
      "15   1762  Dublin  Ireland      8.32\n",
      "16   1763  Dublin  Ireland      7.95\n",
      "17   1764  Dublin  Ireland      8.26\n",
      "18   1765  Dublin  Ireland      8.08\n",
      "19   1766  Dublin  Ireland      8.24\n",
      "20   1767  Dublin  Ireland      8.38\n",
      "21   1768  Dublin  Ireland      8.25\n",
      "22   1769  Dublin  Ireland      8.33\n",
      "23   1770  Dublin  Ireland      8.08\n",
      "24   1771  Dublin  Ireland      8.14\n",
      "25   1772  Dublin  Ireland      8.22\n",
      "26   1773  Dublin  Ireland      8.26\n",
      "27   1774  Dublin  Ireland      8.22\n",
      "28   1775  Dublin  Ireland      9.06\n",
      "29   1776  Dublin  Ireland      8.30\n",
      "..    ...     ...      ...       ...\n",
      "237  1984  Dublin  Ireland      9.07\n",
      "238  1985  Dublin  Ireland      8.34\n",
      "239  1986  Dublin  Ireland      8.03\n",
      "240  1987  Dublin  Ireland      8.66\n",
      "241  1988  Dublin  Ireland      9.16\n",
      "242  1989  Dublin  Ireland      9.57\n",
      "243  1990  Dublin  Ireland      9.59\n",
      "244  1991  Dublin  Ireland      9.07\n",
      "245  1992  Dublin  Ireland      9.07\n",
      "246  1993  Dublin  Ireland      8.85\n",
      "247  1994  Dublin  Ireland      9.13\n",
      "248  1995  Dublin  Ireland      9.75\n",
      "249  1996  Dublin  Ireland      8.85\n",
      "250  1997  Dublin  Ireland      9.95\n",
      "251  1998  Dublin  Ireland      9.71\n",
      "252  1999  Dublin  Ireland      9.75\n",
      "253  2000  Dublin  Ireland      9.43\n",
      "254  2001  Dublin  Ireland      9.27\n",
      "255  2002  Dublin  Ireland      9.75\n",
      "256  2003  Dublin  Ireland      9.80\n",
      "257  2004  Dublin  Ireland      9.77\n",
      "258  2005  Dublin  Ireland      9.91\n",
      "259  2006  Dublin  Ireland     10.00\n",
      "260  2007  Dublin  Ireland     10.11\n",
      "261  2008  Dublin  Ireland      9.42\n",
      "262  2009  Dublin  Ireland      9.47\n",
      "263  2010  Dublin  Ireland      8.38\n",
      "264  2011  Dublin  Ireland      9.76\n",
      "265  2012  Dublin  Ireland      9.28\n",
      "266  2013  Dublin  Ireland      9.28\n",
      "\n",
      "[267 rows x 4 columns]\n"
     ]
    }
   ],
   "source": [
    "dublin_city_data = pd.read_csv(\"./data/dublin_city_data.csv\")\n",
    "print(dublin_city_data)"
   ]
  },
  {
   "cell_type": "markdown",
   "metadata": {},
   "source": [
    "**Save data into `dallas_city_data.csv` file**"
   ]
  },
  {
   "cell_type": "code",
   "execution_count": 7,
   "metadata": {},
   "outputs": [
    {
     "name": "stdout",
     "output_type": "stream",
     "text": [
      "     year    city        country  avg_temp\n",
      "0    1820  Dallas  United States     16.88\n",
      "1    1821  Dallas  United States     17.33\n",
      "2    1822  Dallas  United States     17.87\n",
      "3    1823  Dallas  United States     17.46\n",
      "4    1824  Dallas  United States     17.90\n",
      "5    1825  Dallas  United States     18.38\n",
      "6    1826  Dallas  United States     17.93\n",
      "7    1827  Dallas  United States     18.62\n",
      "8    1828  Dallas  United States     18.26\n",
      "9    1829  Dallas  United States     17.89\n",
      "10   1830  Dallas  United States     18.68\n",
      "11   1831  Dallas  United States     16.98\n",
      "12   1832  Dallas  United States     17.81\n",
      "13   1833  Dallas  United States     18.29\n",
      "14   1834  Dallas  United States     18.50\n",
      "15   1835  Dallas  United States     16.58\n",
      "16   1836  Dallas  United States     16.67\n",
      "17   1837  Dallas  United States     17.47\n",
      "18   1838  Dallas  United States     16.54\n",
      "19   1839  Dallas  United States     17.64\n",
      "20   1840  Dallas  United States     17.62\n",
      "21   1841  Dallas  United States     17.66\n",
      "22   1842  Dallas  United States     17.98\n",
      "23   1843  Dallas  United States     17.44\n",
      "24   1844  Dallas  United States     17.92\n",
      "25   1845  Dallas  United States     17.76\n",
      "26   1846  Dallas  United States     18.19\n",
      "27   1847  Dallas  United States     17.06\n",
      "28   1848  Dallas  United States     17.40\n",
      "29   1849  Dallas  United States     17.86\n",
      "..    ...     ...            ...       ...\n",
      "164  1984  Dallas  United States     18.47\n",
      "165  1985  Dallas  United States     18.22\n",
      "166  1986  Dallas  United States     18.83\n",
      "167  1987  Dallas  United States     18.28\n",
      "168  1988  Dallas  United States     18.19\n",
      "169  1989  Dallas  United States     17.48\n",
      "170  1990  Dallas  United States     18.97\n",
      "171  1991  Dallas  United States     18.47\n",
      "172  1992  Dallas  United States     18.19\n",
      "173  1993  Dallas  United States     17.82\n",
      "174  1994  Dallas  United States     18.31\n",
      "175  1995  Dallas  United States     18.45\n",
      "176  1996  Dallas  United States     18.43\n",
      "177  1997  Dallas  United States     17.85\n",
      "178  1998  Dallas  United States     19.85\n",
      "179  1999  Dallas  United States     19.61\n",
      "180  2000  Dallas  United States     18.90\n",
      "181  2001  Dallas  United States     18.55\n",
      "182  2002  Dallas  United States     18.19\n",
      "183  2003  Dallas  United States     18.55\n",
      "184  2004  Dallas  United States     18.58\n",
      "185  2005  Dallas  United States     19.13\n",
      "186  2006  Dallas  United States     19.85\n",
      "187  2007  Dallas  United States     18.42\n",
      "188  2008  Dallas  United States     18.52\n",
      "189  2009  Dallas  United States     18.42\n",
      "190  2010  Dallas  United States     18.69\n",
      "191  2011  Dallas  United States     19.69\n",
      "192  2012  Dallas  United States     19.99\n",
      "193  2013  Dallas  United States     20.45\n",
      "\n",
      "[194 rows x 4 columns]\n"
     ]
    }
   ],
   "source": [
    "dallas_city_data = pd.read_csv(\"./data/dallas_city_data.csv\")\n",
    "print(dallas_city_data)"
   ]
  },
  {
   "cell_type": "markdown",
   "metadata": {},
   "source": [
    "**Rio de Janeiro 10 years moving average**\n",
    "![Image](./image/rio_de_janeiro_10yma_city_data_year_c.svg)\n",
    "\n",
    "**Dublin 10 years moving average**\n",
    "![Image](./image/dublin_10yma_city_data_year_c.svg)\n",
    "\n",
    "**Dallas 10 years moving average**\n",
    "![Image](./image/dallas_10yma_city_data_year_c.svg)\n",
    "\n",
    "All cities have the same temperature behavior: the average temperature close to nowaday is higher than the average of the past years."
   ]
  }
 ],
 "metadata": {
  "kernelspec": {
   "display_name": "Python 3",
   "language": "python",
   "name": "python3"
  },
  "language_info": {
   "codemirror_mode": {
    "name": "ipython",
    "version": 3
   },
   "file_extension": ".py",
   "mimetype": "text/x-python",
   "name": "python",
   "nbconvert_exporter": "python",
   "pygments_lexer": "ipython3",
   "version": "3.7.1"
  },
  "toc": {
   "base_numbering": 1,
   "nav_menu": {},
   "number_sections": true,
   "sideBar": true,
   "skip_h1_title": false,
   "title_cell": "Table of Contents",
   "title_sidebar": "Contents",
   "toc_cell": true,
   "toc_position": {},
   "toc_section_display": true,
   "toc_window_display": false
  }
 },
 "nbformat": 4,
 "nbformat_minor": 2
}
