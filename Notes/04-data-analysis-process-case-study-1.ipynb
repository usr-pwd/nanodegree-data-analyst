{
 "cells": [
  {
   "cell_type": "markdown",
   "metadata": {
    "toc": true
   },
   "source": [
    "<h1>Table of Contents<span class=\"tocSkip\"></span></h1>\n",
    "<div class=\"toc\"><ul class=\"toc-item\"><li><span><a href=\"#Data-Analysis-Process---Case-Study-1\" data-toc-modified-id=\"Data-Analysis-Process---Case-Study-1-1\"><span class=\"toc-item-num\">1&nbsp;&nbsp;</span>Data Analysis Process - Case Study 1</a></span></li><li><span><a href=\"#Gathering-Data\" data-toc-modified-id=\"Gathering-Data-2\"><span class=\"toc-item-num\">2&nbsp;&nbsp;</span>Gathering Data</a></span></li><li><span><a href=\"#Introduction-to-NumPy\" data-toc-modified-id=\"Introduction-to-NumPy-3\"><span class=\"toc-item-num\">3&nbsp;&nbsp;</span>Introduction to NumPy</a></span><ul class=\"toc-item\"><li><span><a href=\"#Appending-Data\" data-toc-modified-id=\"Appending-Data-3.1\"><span class=\"toc-item-num\">3.1&nbsp;&nbsp;</span>Appending Data</a></span></li><li><span><a href=\"#Create-Color-Columns\" data-toc-modified-id=\"Create-Color-Columns-3.2\"><span class=\"toc-item-num\">3.2&nbsp;&nbsp;</span>Create Color Columns</a></span></li><li><span><a href=\"#Combine-DataFrames-with-Append\" data-toc-modified-id=\"Combine-DataFrames-with-Append-3.3\"><span class=\"toc-item-num\">3.3&nbsp;&nbsp;</span>Combine DataFrames with Append</a></span></li><li><span><a href=\"#Save-Combined-Dataset\" data-toc-modified-id=\"Save-Combined-Dataset-3.4\"><span class=\"toc-item-num\">3.4&nbsp;&nbsp;</span>Save Combined Dataset</a></span></li><li><span><a href=\"#Troubleshooting-with-Appending\" data-toc-modified-id=\"Troubleshooting-with-Appending-3.5\"><span class=\"toc-item-num\">3.5&nbsp;&nbsp;</span>Troubleshooting with Appending</a></span></li></ul></li><li><span><a href=\"#Renaming-Columns\" data-toc-modified-id=\"Renaming-Columns-4\"><span class=\"toc-item-num\">4&nbsp;&nbsp;</span>Renaming Columns</a></span><ul class=\"toc-item\"><li><span><a href=\"#Using-pandas'-rename-function\" data-toc-modified-id=\"Using-pandas'-rename-function-4.1\"><span class=\"toc-item-num\">4.1&nbsp;&nbsp;</span>Using pandas' rename function</a></span></li></ul></li><li><span><a href=\"#Exploring-with-Visuals\" data-toc-modified-id=\"Exploring-with-Visuals-5\"><span class=\"toc-item-num\">5&nbsp;&nbsp;</span>Exploring with Visuals</a></span></li><li><span><a href=\"#Matplotlib-Example\" data-toc-modified-id=\"Matplotlib-Example-6\"><span class=\"toc-item-num\">6&nbsp;&nbsp;</span>Matplotlib Example</a></span></li><li><span><a href=\"#Pandas-Groupby\" data-toc-modified-id=\"Pandas-Groupby-7\"><span class=\"toc-item-num\">7&nbsp;&nbsp;</span>Pandas Groupby</a></span><ul class=\"toc-item\"><li><span><a href=\"#Example-using-Groupby\" data-toc-modified-id=\"Example-using-Groupby-7.1\"><span class=\"toc-item-num\">7.1&nbsp;&nbsp;</span>Example using Groupby</a></span></li></ul></li><li><span><a href=\"#Pandas-Query\" data-toc-modified-id=\"Pandas-Query-8\"><span class=\"toc-item-num\">8&nbsp;&nbsp;</span>Pandas Query</a></span><ul class=\"toc-item\"><li><span><a href=\"#Example-using-Query\" data-toc-modified-id=\"Example-using-Query-8.1\"><span class=\"toc-item-num\">8.1&nbsp;&nbsp;</span>Example using Query</a></span></li></ul></li><li><span><a href=\"#Type-&amp;-Quality-Plot-with-Matplotlib\" data-toc-modified-id=\"Type-&amp;-Quality-Plot-with-Matplotlib-9\"><span class=\"toc-item-num\">9&nbsp;&nbsp;</span>Type &amp; Quality Plot with Matplotlib</a></span></li></ul></div>"
   ]
  },
  {
   "cell_type": "markdown",
   "metadata": {},
   "source": [
    "# Data Analysis Process - Case Study 1\n",
    "\n",
    "We're going to investigate this [dataset](https://archive.ics.uci.edu/ml/datasets/Wine+Quality) on physicochemical properties and quality ratings of red and white wine samples.\n",
    "\n",
    "* Data attributes\n",
    " * 1 - fixed acidity\n",
    " * 2 - volatile acidity\n",
    " * 3 - citric acid\n",
    " * 4 - residual sugar\n",
    " * 5 - chlorides\n",
    " * 6 - free sulfur dioxide\n",
    " * 7 - total sulfur dioxide\n",
    " * 8 - density\n",
    " * 9 - pH\n",
    " * 10 - sulphates\n",
    " * 11 - alcohol\n",
    " * 12 - quality (score between 0 and 10)"
   ]
  },
  {
   "cell_type": "markdown",
   "metadata": {},
   "source": [
    "# Gathering Data\n",
    "\n",
    "Reading CSV files isn't always the same process - you won't always know what to expect. Sometimes there could be different delimiters, missing column labels, blank lines, comments, header text, etc."
   ]
  },
  {
   "cell_type": "code",
   "execution_count": 66,
   "metadata": {},
   "outputs": [
    {
     "data": {
      "text/html": [
       "<div>\n",
       "<style scoped>\n",
       "    .dataframe tbody tr th:only-of-type {\n",
       "        vertical-align: middle;\n",
       "    }\n",
       "\n",
       "    .dataframe tbody tr th {\n",
       "        vertical-align: top;\n",
       "    }\n",
       "\n",
       "    .dataframe thead th {\n",
       "        text-align: right;\n",
       "    }\n",
       "</style>\n",
       "<table border=\"1\" class=\"dataframe\">\n",
       "  <thead>\n",
       "    <tr style=\"text-align: right;\">\n",
       "      <th></th>\n",
       "      <th>fixed_acidity;volatile_acidity;citric_acid;residual_sugar;chlorides;free_sulfur_dioxide;total_sulfur-dioxide;density;pH;sulphates;alcohol;quality</th>\n",
       "    </tr>\n",
       "  </thead>\n",
       "  <tbody>\n",
       "    <tr>\n",
       "      <th>0</th>\n",
       "      <td>7.4;0.7;0;1.9;0.076;11;34;0.9978;3.51;0.56;9.4;5</td>\n",
       "    </tr>\n",
       "    <tr>\n",
       "      <th>1</th>\n",
       "      <td>7.8;0.88;0;2.6;0.098;25;67;0.9968;3.2;0.68;9.8;5</td>\n",
       "    </tr>\n",
       "    <tr>\n",
       "      <th>2</th>\n",
       "      <td>7.8;0.76;0.04;2.3;0.092;15;54;0.997;3.26;0.65;...</td>\n",
       "    </tr>\n",
       "    <tr>\n",
       "      <th>3</th>\n",
       "      <td>11.2;0.28;0.56;1.9;0.075;17;60;0.998;3.16;0.58...</td>\n",
       "    </tr>\n",
       "    <tr>\n",
       "      <th>4</th>\n",
       "      <td>7.4;0.7;0;1.9;0.076;11;34;0.9978;3.51;0.56;9.4;5</td>\n",
       "    </tr>\n",
       "  </tbody>\n",
       "</table>\n",
       "</div>"
      ],
      "text/plain": [
       "  fixed_acidity;volatile_acidity;citric_acid;residual_sugar;chlorides;free_sulfur_dioxide;total_sulfur-dioxide;density;pH;sulphates;alcohol;quality\n",
       "0   7.4;0.7;0;1.9;0.076;11;34;0.9978;3.51;0.56;9.4;5                                                                                               \n",
       "1   7.8;0.88;0;2.6;0.098;25;67;0.9968;3.2;0.68;9.8;5                                                                                               \n",
       "2  7.8;0.76;0.04;2.3;0.092;15;54;0.997;3.26;0.65;...                                                                                               \n",
       "3  11.2;0.28;0.56;1.9;0.075;17;60;0.998;3.16;0.58...                                                                                               \n",
       "4   7.4;0.7;0;1.9;0.076;11;34;0.9978;3.51;0.56;9.4;5                                                                                               "
      ]
     },
     "execution_count": 66,
     "metadata": {},
     "output_type": "execute_result"
    }
   ],
   "source": [
    "import pandas as pd\n",
    "\n",
    "df = pd.read_csv('./data/winequality-red.csv')\n",
    "df.head()"
   ]
  },
  {
   "cell_type": "markdown",
   "metadata": {},
   "source": [
    "In this case, the delimiter is `;`. We can choose the correct separator for this `CSV` file."
   ]
  },
  {
   "cell_type": "code",
   "execution_count": 48,
   "metadata": {},
   "outputs": [
    {
     "data": {
      "text/html": [
       "<div>\n",
       "<style scoped>\n",
       "    .dataframe tbody tr th:only-of-type {\n",
       "        vertical-align: middle;\n",
       "    }\n",
       "\n",
       "    .dataframe tbody tr th {\n",
       "        vertical-align: top;\n",
       "    }\n",
       "\n",
       "    .dataframe thead th {\n",
       "        text-align: right;\n",
       "    }\n",
       "</style>\n",
       "<table border=\"1\" class=\"dataframe\">\n",
       "  <thead>\n",
       "    <tr style=\"text-align: right;\">\n",
       "      <th></th>\n",
       "      <th>fixed_acidity</th>\n",
       "      <th>volatile_acidity</th>\n",
       "      <th>citric_acid</th>\n",
       "      <th>residual_sugar</th>\n",
       "      <th>chlorides</th>\n",
       "      <th>free_sulfur_dioxide</th>\n",
       "      <th>total_sulfur-dioxide</th>\n",
       "      <th>density</th>\n",
       "      <th>pH</th>\n",
       "      <th>sulphates</th>\n",
       "      <th>alcohol</th>\n",
       "      <th>quality</th>\n",
       "    </tr>\n",
       "  </thead>\n",
       "  <tbody>\n",
       "    <tr>\n",
       "      <th>0</th>\n",
       "      <td>7.4</td>\n",
       "      <td>0.70</td>\n",
       "      <td>0.00</td>\n",
       "      <td>1.9</td>\n",
       "      <td>0.076</td>\n",
       "      <td>11.0</td>\n",
       "      <td>34.0</td>\n",
       "      <td>0.9978</td>\n",
       "      <td>3.51</td>\n",
       "      <td>0.56</td>\n",
       "      <td>9.4</td>\n",
       "      <td>5</td>\n",
       "    </tr>\n",
       "    <tr>\n",
       "      <th>1</th>\n",
       "      <td>7.8</td>\n",
       "      <td>0.88</td>\n",
       "      <td>0.00</td>\n",
       "      <td>2.6</td>\n",
       "      <td>0.098</td>\n",
       "      <td>25.0</td>\n",
       "      <td>67.0</td>\n",
       "      <td>0.9968</td>\n",
       "      <td>3.20</td>\n",
       "      <td>0.68</td>\n",
       "      <td>9.8</td>\n",
       "      <td>5</td>\n",
       "    </tr>\n",
       "    <tr>\n",
       "      <th>2</th>\n",
       "      <td>7.8</td>\n",
       "      <td>0.76</td>\n",
       "      <td>0.04</td>\n",
       "      <td>2.3</td>\n",
       "      <td>0.092</td>\n",
       "      <td>15.0</td>\n",
       "      <td>54.0</td>\n",
       "      <td>0.9970</td>\n",
       "      <td>3.26</td>\n",
       "      <td>0.65</td>\n",
       "      <td>9.8</td>\n",
       "      <td>5</td>\n",
       "    </tr>\n",
       "    <tr>\n",
       "      <th>3</th>\n",
       "      <td>11.2</td>\n",
       "      <td>0.28</td>\n",
       "      <td>0.56</td>\n",
       "      <td>1.9</td>\n",
       "      <td>0.075</td>\n",
       "      <td>17.0</td>\n",
       "      <td>60.0</td>\n",
       "      <td>0.9980</td>\n",
       "      <td>3.16</td>\n",
       "      <td>0.58</td>\n",
       "      <td>9.8</td>\n",
       "      <td>6</td>\n",
       "    </tr>\n",
       "    <tr>\n",
       "      <th>4</th>\n",
       "      <td>7.4</td>\n",
       "      <td>0.70</td>\n",
       "      <td>0.00</td>\n",
       "      <td>1.9</td>\n",
       "      <td>0.076</td>\n",
       "      <td>11.0</td>\n",
       "      <td>34.0</td>\n",
       "      <td>0.9978</td>\n",
       "      <td>3.51</td>\n",
       "      <td>0.56</td>\n",
       "      <td>9.4</td>\n",
       "      <td>5</td>\n",
       "    </tr>\n",
       "  </tbody>\n",
       "</table>\n",
       "</div>"
      ],
      "text/plain": [
       "   fixed_acidity  volatile_acidity  citric_acid  residual_sugar  ...    pH  sulphates  alcohol  quality\n",
       "0            7.4              0.70         0.00             1.9  ...  3.51       0.56      9.4        5\n",
       "1            7.8              0.88         0.00             2.6  ...  3.20       0.68      9.8        5\n",
       "2            7.8              0.76         0.04             2.3  ...  3.26       0.65      9.8        5\n",
       "3           11.2              0.28         0.56             1.9  ...  3.16       0.58      9.8        6\n",
       "4            7.4              0.70         0.00             1.9  ...  3.51       0.56      9.4        5\n",
       "\n",
       "[5 rows x 12 columns]"
      ]
     },
     "execution_count": 48,
     "metadata": {},
     "output_type": "execute_result"
    }
   ],
   "source": [
    "import pandas as pd\n",
    "\n",
    "df = pd.read_csv('./data/winequality-red.csv', sep=';')\n",
    "df.head()"
   ]
  },
  {
   "cell_type": "markdown",
   "metadata": {},
   "source": [
    "# Introduction to NumPy\n",
    "\n",
    "You can read the [history of SciPy](https://scipy.github.io/old-wiki/pages/History_of_SciPy.html) in this link."
   ]
  },
  {
   "cell_type": "markdown",
   "metadata": {},
   "source": [
    "## Appending Data\n",
    "\n",
    "Let's combine the red and white data sets into one dataframe. We need to include new column to each dataframe that indicates whether the wine is red or white.\n",
    "\n",
    "Use NumPy to create a new column that preserves color information, and then use pandas to combine the dataframes."
   ]
  },
  {
   "cell_type": "code",
   "execution_count": 49,
   "metadata": {},
   "outputs": [],
   "source": [
    "import numpy as np\n",
    "import pandas as pd\n",
    "\n",
    "# load red and white wine datasets\n",
    "red_df = pd.read_csv('./data/winequality-red.csv', sep=';')\n",
    "white_df = pd.read_csv('./data/winequality-white.csv', sep=';')"
   ]
  },
  {
   "cell_type": "markdown",
   "metadata": {},
   "source": [
    "## Create Color Columns\n",
    "Create two arrays as long as the number of rows in the red and white dataframes that repeat the value “red” or “white.” NumPy offers really easy way to do this. Here’s the documentation for [NumPy’s repeat](https://docs.scipy.org/doc/numpy/reference/generated/numpy.repeat.html) function. Take a look and try it yourself."
   ]
  },
  {
   "cell_type": "code",
   "execution_count": 50,
   "metadata": {},
   "outputs": [],
   "source": [
    "# create color array for red dataframe\n",
    "color_red = np.repeat('red', red_df.shape[0])\n",
    "\n",
    "# create color array for white dataframe\n",
    "color_white = np.repeat('white', white_df.shape[0])"
   ]
  },
  {
   "cell_type": "markdown",
   "metadata": {},
   "source": [
    "Add arrays to the red and white dataframes. Do this by setting a new column called 'color' to the appropriate array. The cell below does this for the red dataframe."
   ]
  },
  {
   "cell_type": "code",
   "execution_count": 51,
   "metadata": {},
   "outputs": [
    {
     "data": {
      "text/html": [
       "<div>\n",
       "<style scoped>\n",
       "    .dataframe tbody tr th:only-of-type {\n",
       "        vertical-align: middle;\n",
       "    }\n",
       "\n",
       "    .dataframe tbody tr th {\n",
       "        vertical-align: top;\n",
       "    }\n",
       "\n",
       "    .dataframe thead th {\n",
       "        text-align: right;\n",
       "    }\n",
       "</style>\n",
       "<table border=\"1\" class=\"dataframe\">\n",
       "  <thead>\n",
       "    <tr style=\"text-align: right;\">\n",
       "      <th></th>\n",
       "      <th>fixed_acidity</th>\n",
       "      <th>volatile_acidity</th>\n",
       "      <th>citric_acid</th>\n",
       "      <th>residual_sugar</th>\n",
       "      <th>chlorides</th>\n",
       "      <th>free_sulfur_dioxide</th>\n",
       "      <th>total_sulfur-dioxide</th>\n",
       "      <th>density</th>\n",
       "      <th>pH</th>\n",
       "      <th>sulphates</th>\n",
       "      <th>alcohol</th>\n",
       "      <th>quality</th>\n",
       "      <th>color</th>\n",
       "    </tr>\n",
       "  </thead>\n",
       "  <tbody>\n",
       "    <tr>\n",
       "      <th>0</th>\n",
       "      <td>7.4</td>\n",
       "      <td>0.70</td>\n",
       "      <td>0.00</td>\n",
       "      <td>1.9</td>\n",
       "      <td>0.076</td>\n",
       "      <td>11.0</td>\n",
       "      <td>34.0</td>\n",
       "      <td>0.9978</td>\n",
       "      <td>3.51</td>\n",
       "      <td>0.56</td>\n",
       "      <td>9.4</td>\n",
       "      <td>5</td>\n",
       "      <td>red</td>\n",
       "    </tr>\n",
       "    <tr>\n",
       "      <th>1</th>\n",
       "      <td>7.8</td>\n",
       "      <td>0.88</td>\n",
       "      <td>0.00</td>\n",
       "      <td>2.6</td>\n",
       "      <td>0.098</td>\n",
       "      <td>25.0</td>\n",
       "      <td>67.0</td>\n",
       "      <td>0.9968</td>\n",
       "      <td>3.20</td>\n",
       "      <td>0.68</td>\n",
       "      <td>9.8</td>\n",
       "      <td>5</td>\n",
       "      <td>red</td>\n",
       "    </tr>\n",
       "    <tr>\n",
       "      <th>2</th>\n",
       "      <td>7.8</td>\n",
       "      <td>0.76</td>\n",
       "      <td>0.04</td>\n",
       "      <td>2.3</td>\n",
       "      <td>0.092</td>\n",
       "      <td>15.0</td>\n",
       "      <td>54.0</td>\n",
       "      <td>0.9970</td>\n",
       "      <td>3.26</td>\n",
       "      <td>0.65</td>\n",
       "      <td>9.8</td>\n",
       "      <td>5</td>\n",
       "      <td>red</td>\n",
       "    </tr>\n",
       "    <tr>\n",
       "      <th>3</th>\n",
       "      <td>11.2</td>\n",
       "      <td>0.28</td>\n",
       "      <td>0.56</td>\n",
       "      <td>1.9</td>\n",
       "      <td>0.075</td>\n",
       "      <td>17.0</td>\n",
       "      <td>60.0</td>\n",
       "      <td>0.9980</td>\n",
       "      <td>3.16</td>\n",
       "      <td>0.58</td>\n",
       "      <td>9.8</td>\n",
       "      <td>6</td>\n",
       "      <td>red</td>\n",
       "    </tr>\n",
       "    <tr>\n",
       "      <th>4</th>\n",
       "      <td>7.4</td>\n",
       "      <td>0.70</td>\n",
       "      <td>0.00</td>\n",
       "      <td>1.9</td>\n",
       "      <td>0.076</td>\n",
       "      <td>11.0</td>\n",
       "      <td>34.0</td>\n",
       "      <td>0.9978</td>\n",
       "      <td>3.51</td>\n",
       "      <td>0.56</td>\n",
       "      <td>9.4</td>\n",
       "      <td>5</td>\n",
       "      <td>red</td>\n",
       "    </tr>\n",
       "  </tbody>\n",
       "</table>\n",
       "</div>"
      ],
      "text/plain": [
       "   fixed_acidity  volatile_acidity  citric_acid  residual_sugar  ...  sulphates  alcohol  quality  color\n",
       "0            7.4              0.70         0.00             1.9  ...       0.56      9.4        5    red\n",
       "1            7.8              0.88         0.00             2.6  ...       0.68      9.8        5    red\n",
       "2            7.8              0.76         0.04             2.3  ...       0.65      9.8        5    red\n",
       "3           11.2              0.28         0.56             1.9  ...       0.58      9.8        6    red\n",
       "4            7.4              0.70         0.00             1.9  ...       0.56      9.4        5    red\n",
       "\n",
       "[5 rows x 13 columns]"
      ]
     },
     "execution_count": 51,
     "metadata": {},
     "output_type": "execute_result"
    }
   ],
   "source": [
    "red_df['color'] = color_red\n",
    "red_df.head()"
   ]
  },
  {
   "cell_type": "markdown",
   "metadata": {},
   "source": [
    "Do the same for the white dataframe and use `head()` to confirm the change."
   ]
  },
  {
   "cell_type": "code",
   "execution_count": 52,
   "metadata": {},
   "outputs": [
    {
     "data": {
      "text/html": [
       "<div>\n",
       "<style scoped>\n",
       "    .dataframe tbody tr th:only-of-type {\n",
       "        vertical-align: middle;\n",
       "    }\n",
       "\n",
       "    .dataframe tbody tr th {\n",
       "        vertical-align: top;\n",
       "    }\n",
       "\n",
       "    .dataframe thead th {\n",
       "        text-align: right;\n",
       "    }\n",
       "</style>\n",
       "<table border=\"1\" class=\"dataframe\">\n",
       "  <thead>\n",
       "    <tr style=\"text-align: right;\">\n",
       "      <th></th>\n",
       "      <th>fixed_acidity</th>\n",
       "      <th>volatile_acidity</th>\n",
       "      <th>citric_acid</th>\n",
       "      <th>residual_sugar</th>\n",
       "      <th>chlorides</th>\n",
       "      <th>free_sulfur_dioxide</th>\n",
       "      <th>total_sulfur_dioxide</th>\n",
       "      <th>density</th>\n",
       "      <th>pH</th>\n",
       "      <th>sulphates</th>\n",
       "      <th>alcohol</th>\n",
       "      <th>quality</th>\n",
       "      <th>color</th>\n",
       "    </tr>\n",
       "  </thead>\n",
       "  <tbody>\n",
       "    <tr>\n",
       "      <th>0</th>\n",
       "      <td>7.0</td>\n",
       "      <td>0.27</td>\n",
       "      <td>0.36</td>\n",
       "      <td>20.7</td>\n",
       "      <td>0.045</td>\n",
       "      <td>45.0</td>\n",
       "      <td>170.0</td>\n",
       "      <td>1.0010</td>\n",
       "      <td>3.00</td>\n",
       "      <td>0.45</td>\n",
       "      <td>8.8</td>\n",
       "      <td>6</td>\n",
       "      <td>white</td>\n",
       "    </tr>\n",
       "    <tr>\n",
       "      <th>1</th>\n",
       "      <td>6.3</td>\n",
       "      <td>0.30</td>\n",
       "      <td>0.34</td>\n",
       "      <td>1.6</td>\n",
       "      <td>0.049</td>\n",
       "      <td>14.0</td>\n",
       "      <td>132.0</td>\n",
       "      <td>0.9940</td>\n",
       "      <td>3.30</td>\n",
       "      <td>0.49</td>\n",
       "      <td>9.5</td>\n",
       "      <td>6</td>\n",
       "      <td>white</td>\n",
       "    </tr>\n",
       "    <tr>\n",
       "      <th>2</th>\n",
       "      <td>8.1</td>\n",
       "      <td>0.28</td>\n",
       "      <td>0.40</td>\n",
       "      <td>6.9</td>\n",
       "      <td>0.050</td>\n",
       "      <td>30.0</td>\n",
       "      <td>97.0</td>\n",
       "      <td>0.9951</td>\n",
       "      <td>3.26</td>\n",
       "      <td>0.44</td>\n",
       "      <td>10.1</td>\n",
       "      <td>6</td>\n",
       "      <td>white</td>\n",
       "    </tr>\n",
       "    <tr>\n",
       "      <th>3</th>\n",
       "      <td>7.2</td>\n",
       "      <td>0.23</td>\n",
       "      <td>0.32</td>\n",
       "      <td>8.5</td>\n",
       "      <td>0.058</td>\n",
       "      <td>47.0</td>\n",
       "      <td>186.0</td>\n",
       "      <td>0.9956</td>\n",
       "      <td>3.19</td>\n",
       "      <td>0.40</td>\n",
       "      <td>9.9</td>\n",
       "      <td>6</td>\n",
       "      <td>white</td>\n",
       "    </tr>\n",
       "    <tr>\n",
       "      <th>4</th>\n",
       "      <td>7.2</td>\n",
       "      <td>0.23</td>\n",
       "      <td>0.32</td>\n",
       "      <td>8.5</td>\n",
       "      <td>0.058</td>\n",
       "      <td>47.0</td>\n",
       "      <td>186.0</td>\n",
       "      <td>0.9956</td>\n",
       "      <td>3.19</td>\n",
       "      <td>0.40</td>\n",
       "      <td>9.9</td>\n",
       "      <td>6</td>\n",
       "      <td>white</td>\n",
       "    </tr>\n",
       "  </tbody>\n",
       "</table>\n",
       "</div>"
      ],
      "text/plain": [
       "   fixed_acidity  volatile_acidity  citric_acid  residual_sugar  ...  sulphates  alcohol  quality  color\n",
       "0            7.0              0.27         0.36            20.7  ...       0.45      8.8        6  white\n",
       "1            6.3              0.30         0.34             1.6  ...       0.49      9.5        6  white\n",
       "2            8.1              0.28         0.40             6.9  ...       0.44     10.1        6  white\n",
       "3            7.2              0.23         0.32             8.5  ...       0.40      9.9        6  white\n",
       "4            7.2              0.23         0.32             8.5  ...       0.40      9.9        6  white\n",
       "\n",
       "[5 rows x 13 columns]"
      ]
     },
     "execution_count": 52,
     "metadata": {},
     "output_type": "execute_result"
    }
   ],
   "source": [
    "white_df['color'] = color_white\n",
    "white_df.head()"
   ]
  },
  {
   "cell_type": "markdown",
   "metadata": {},
   "source": [
    "## Combine DataFrames with Append\n",
    "Check the documentation for [Pandas' append](https://pandas.pydata.org/pandas-docs/stable/generated/pandas.DataFrame.append.html) function and see if you can use this to figure out how to combine the dataframes. (Bonus: Why aren't we using the [merge](https://pandas.pydata.org/pandas-docs/stable/generated/pandas.DataFrame.merge.html) method to combine the dataframes?) If you don’t get it, I’ll show you how afterwards. Make sure to save your work in this notebook! You'll come back to this later."
   ]
  },
  {
   "cell_type": "code",
   "execution_count": 67,
   "metadata": {},
   "outputs": [
    {
     "data": {
      "text/html": [
       "<div>\n",
       "<style scoped>\n",
       "    .dataframe tbody tr th:only-of-type {\n",
       "        vertical-align: middle;\n",
       "    }\n",
       "\n",
       "    .dataframe tbody tr th {\n",
       "        vertical-align: top;\n",
       "    }\n",
       "\n",
       "    .dataframe thead th {\n",
       "        text-align: right;\n",
       "    }\n",
       "</style>\n",
       "<table border=\"1\" class=\"dataframe\">\n",
       "  <thead>\n",
       "    <tr style=\"text-align: right;\">\n",
       "      <th></th>\n",
       "      <th>fixed_acidity</th>\n",
       "      <th>volatile_acidity</th>\n",
       "      <th>citric_acid</th>\n",
       "      <th>residual_sugar</th>\n",
       "      <th>chlorides</th>\n",
       "      <th>free_sulfur_dioxide</th>\n",
       "      <th>total_sulfur-dioxide</th>\n",
       "      <th>density</th>\n",
       "      <th>pH</th>\n",
       "      <th>sulphates</th>\n",
       "      <th>alcohol</th>\n",
       "      <th>quality</th>\n",
       "      <th>color</th>\n",
       "      <th>total_sulfur_dioxide</th>\n",
       "    </tr>\n",
       "  </thead>\n",
       "  <tbody>\n",
       "    <tr>\n",
       "      <th>0</th>\n",
       "      <td>7.4</td>\n",
       "      <td>0.70</td>\n",
       "      <td>0.00</td>\n",
       "      <td>1.9</td>\n",
       "      <td>0.076</td>\n",
       "      <td>11.0</td>\n",
       "      <td>34.0</td>\n",
       "      <td>0.9978</td>\n",
       "      <td>3.51</td>\n",
       "      <td>0.56</td>\n",
       "      <td>9.4</td>\n",
       "      <td>5</td>\n",
       "      <td>red</td>\n",
       "      <td>NaN</td>\n",
       "    </tr>\n",
       "    <tr>\n",
       "      <th>1</th>\n",
       "      <td>7.8</td>\n",
       "      <td>0.88</td>\n",
       "      <td>0.00</td>\n",
       "      <td>2.6</td>\n",
       "      <td>0.098</td>\n",
       "      <td>25.0</td>\n",
       "      <td>67.0</td>\n",
       "      <td>0.9968</td>\n",
       "      <td>3.20</td>\n",
       "      <td>0.68</td>\n",
       "      <td>9.8</td>\n",
       "      <td>5</td>\n",
       "      <td>red</td>\n",
       "      <td>NaN</td>\n",
       "    </tr>\n",
       "    <tr>\n",
       "      <th>2</th>\n",
       "      <td>7.8</td>\n",
       "      <td>0.76</td>\n",
       "      <td>0.04</td>\n",
       "      <td>2.3</td>\n",
       "      <td>0.092</td>\n",
       "      <td>15.0</td>\n",
       "      <td>54.0</td>\n",
       "      <td>0.9970</td>\n",
       "      <td>3.26</td>\n",
       "      <td>0.65</td>\n",
       "      <td>9.8</td>\n",
       "      <td>5</td>\n",
       "      <td>red</td>\n",
       "      <td>NaN</td>\n",
       "    </tr>\n",
       "    <tr>\n",
       "      <th>3</th>\n",
       "      <td>11.2</td>\n",
       "      <td>0.28</td>\n",
       "      <td>0.56</td>\n",
       "      <td>1.9</td>\n",
       "      <td>0.075</td>\n",
       "      <td>17.0</td>\n",
       "      <td>60.0</td>\n",
       "      <td>0.9980</td>\n",
       "      <td>3.16</td>\n",
       "      <td>0.58</td>\n",
       "      <td>9.8</td>\n",
       "      <td>6</td>\n",
       "      <td>red</td>\n",
       "      <td>NaN</td>\n",
       "    </tr>\n",
       "    <tr>\n",
       "      <th>4</th>\n",
       "      <td>7.4</td>\n",
       "      <td>0.70</td>\n",
       "      <td>0.00</td>\n",
       "      <td>1.9</td>\n",
       "      <td>0.076</td>\n",
       "      <td>11.0</td>\n",
       "      <td>34.0</td>\n",
       "      <td>0.9978</td>\n",
       "      <td>3.51</td>\n",
       "      <td>0.56</td>\n",
       "      <td>9.4</td>\n",
       "      <td>5</td>\n",
       "      <td>red</td>\n",
       "      <td>NaN</td>\n",
       "    </tr>\n",
       "  </tbody>\n",
       "</table>\n",
       "</div>"
      ],
      "text/plain": [
       "   fixed_acidity  volatile_acidity  citric_acid  residual_sugar  ...  alcohol  quality  color  total_sulfur_dioxide\n",
       "0            7.4              0.70         0.00             1.9  ...      9.4        5    red                   NaN\n",
       "1            7.8              0.88         0.00             2.6  ...      9.8        5    red                   NaN\n",
       "2            7.8              0.76         0.04             2.3  ...      9.8        5    red                   NaN\n",
       "3           11.2              0.28         0.56             1.9  ...      9.8        6    red                   NaN\n",
       "4            7.4              0.70         0.00             1.9  ...      9.4        5    red                   NaN\n",
       "\n",
       "[5 rows x 14 columns]"
      ]
     },
     "execution_count": 67,
     "metadata": {},
     "output_type": "execute_result"
    }
   ],
   "source": [
    "# append dataframes\n",
    "wine_df = red_df.append(white_df)\n",
    "\n",
    "# view dataframe to check for success\n",
    "wine_df.head()"
   ]
  },
  {
   "cell_type": "markdown",
   "metadata": {},
   "source": [
    "## Save Combined Dataset\n",
    "Save your newly combined dataframe as `winequality_edited.csv`. Remember, set `index=False` to avoid saving with an unnamed column!"
   ]
  },
  {
   "cell_type": "code",
   "execution_count": 65,
   "metadata": {},
   "outputs": [],
   "source": [
    "wine_df.to_csv('./data/winequality_edited.csv', index=False)"
   ]
  },
  {
   "cell_type": "markdown",
   "metadata": {},
   "source": [
    "## Troubleshooting with Appending\n",
    "\n",
    "Something strange with the `total_sulfur_dioxide` column. It is happing beacuse column merging do not occurred: column names do not match."
   ]
  },
  {
   "cell_type": "markdown",
   "metadata": {},
   "source": [
    "# Renaming Columns\n",
    "\n",
    "In order to get append statement to work correctly we need to rename the colmun in `red_df` to match the column name in `white_df`.\n",
    "\n",
    " `df.columns` do not support mutable operations, so `red_df.comlumns[6] = 'total_sulfur_dioxide'` do not work.\n",
    " \n",
    " You need to create a new `list()` object with the names of all columns"
   ]
  },
  {
   "cell_type": "code",
   "execution_count": 72,
   "metadata": {},
   "outputs": [
    {
     "data": {
      "text/html": [
       "<div>\n",
       "<style scoped>\n",
       "    .dataframe tbody tr th:only-of-type {\n",
       "        vertical-align: middle;\n",
       "    }\n",
       "\n",
       "    .dataframe tbody tr th {\n",
       "        vertical-align: top;\n",
       "    }\n",
       "\n",
       "    .dataframe thead th {\n",
       "        text-align: right;\n",
       "    }\n",
       "</style>\n",
       "<table border=\"1\" class=\"dataframe\">\n",
       "  <thead>\n",
       "    <tr style=\"text-align: right;\">\n",
       "      <th></th>\n",
       "      <th>fixed_acidity</th>\n",
       "      <th>volatile_acidity</th>\n",
       "      <th>citric_acid</th>\n",
       "      <th>residual_sugar</th>\n",
       "      <th>chlorides</th>\n",
       "      <th>free_sulfur_dioxide</th>\n",
       "      <th>total_sulfur_dioxide</th>\n",
       "      <th>density</th>\n",
       "      <th>pH</th>\n",
       "      <th>sulphates</th>\n",
       "      <th>alcohol</th>\n",
       "      <th>quality</th>\n",
       "      <th>color</th>\n",
       "    </tr>\n",
       "  </thead>\n",
       "  <tbody>\n",
       "    <tr>\n",
       "      <th>0</th>\n",
       "      <td>7.4</td>\n",
       "      <td>0.70</td>\n",
       "      <td>0.00</td>\n",
       "      <td>1.9</td>\n",
       "      <td>0.076</td>\n",
       "      <td>11.0</td>\n",
       "      <td>34.0</td>\n",
       "      <td>0.9978</td>\n",
       "      <td>3.51</td>\n",
       "      <td>0.56</td>\n",
       "      <td>9.4</td>\n",
       "      <td>5</td>\n",
       "      <td>red</td>\n",
       "    </tr>\n",
       "    <tr>\n",
       "      <th>1</th>\n",
       "      <td>7.8</td>\n",
       "      <td>0.88</td>\n",
       "      <td>0.00</td>\n",
       "      <td>2.6</td>\n",
       "      <td>0.098</td>\n",
       "      <td>25.0</td>\n",
       "      <td>67.0</td>\n",
       "      <td>0.9968</td>\n",
       "      <td>3.20</td>\n",
       "      <td>0.68</td>\n",
       "      <td>9.8</td>\n",
       "      <td>5</td>\n",
       "      <td>red</td>\n",
       "    </tr>\n",
       "    <tr>\n",
       "      <th>2</th>\n",
       "      <td>7.8</td>\n",
       "      <td>0.76</td>\n",
       "      <td>0.04</td>\n",
       "      <td>2.3</td>\n",
       "      <td>0.092</td>\n",
       "      <td>15.0</td>\n",
       "      <td>54.0</td>\n",
       "      <td>0.9970</td>\n",
       "      <td>3.26</td>\n",
       "      <td>0.65</td>\n",
       "      <td>9.8</td>\n",
       "      <td>5</td>\n",
       "      <td>red</td>\n",
       "    </tr>\n",
       "    <tr>\n",
       "      <th>3</th>\n",
       "      <td>11.2</td>\n",
       "      <td>0.28</td>\n",
       "      <td>0.56</td>\n",
       "      <td>1.9</td>\n",
       "      <td>0.075</td>\n",
       "      <td>17.0</td>\n",
       "      <td>60.0</td>\n",
       "      <td>0.9980</td>\n",
       "      <td>3.16</td>\n",
       "      <td>0.58</td>\n",
       "      <td>9.8</td>\n",
       "      <td>6</td>\n",
       "      <td>red</td>\n",
       "    </tr>\n",
       "    <tr>\n",
       "      <th>4</th>\n",
       "      <td>7.4</td>\n",
       "      <td>0.70</td>\n",
       "      <td>0.00</td>\n",
       "      <td>1.9</td>\n",
       "      <td>0.076</td>\n",
       "      <td>11.0</td>\n",
       "      <td>34.0</td>\n",
       "      <td>0.9978</td>\n",
       "      <td>3.51</td>\n",
       "      <td>0.56</td>\n",
       "      <td>9.4</td>\n",
       "      <td>5</td>\n",
       "      <td>red</td>\n",
       "    </tr>\n",
       "  </tbody>\n",
       "</table>\n",
       "</div>"
      ],
      "text/plain": [
       "   fixed_acidity  volatile_acidity  citric_acid  residual_sugar  ...  sulphates  alcohol  quality  color\n",
       "0            7.4              0.70         0.00             1.9  ...       0.56      9.4        5    red\n",
       "1            7.8              0.88         0.00             2.6  ...       0.68      9.8        5    red\n",
       "2            7.8              0.76         0.04             2.3  ...       0.65      9.8        5    red\n",
       "3           11.2              0.28         0.56             1.9  ...       0.58      9.8        6    red\n",
       "4            7.4              0.70         0.00             1.9  ...       0.56      9.4        5    red\n",
       "\n",
       "[5 rows x 13 columns]"
      ]
     },
     "execution_count": 72,
     "metadata": {},
     "output_type": "execute_result"
    }
   ],
   "source": [
    "new_labels = list(red_df.columns)\n",
    "new_labels[6] = 'total_sulfur_dioxide'\n",
    "red_df.columns = new_labels\n",
    "\n",
    "red_df.head()"
   ]
  },
  {
   "cell_type": "markdown",
   "metadata": {},
   "source": [
    "We could do this better by using a method called `rename()`"
   ]
  },
  {
   "cell_type": "markdown",
   "metadata": {},
   "source": [
    "## Using pandas' rename function"
   ]
  },
  {
   "cell_type": "code",
   "execution_count": 76,
   "metadata": {},
   "outputs": [],
   "source": [
    "import numpy as np\n",
    "import pandas as pd\n",
    "\n",
    "# load red and white wine datasets\n",
    "red_df = pd.read_csv('./data/winequality-red.csv', sep=';')\n",
    "white_df = pd.read_csv('./data/winequality-white.csv', sep=';')\n",
    "\n",
    "# create color array for red dataframe\n",
    "color_red = np.repeat('red', red_df.shape[0])\n",
    "\n",
    "# create color array for white dataframe\n",
    "color_white = np.repeat('white', white_df.shape[0])\n",
    "\n",
    "# Add arrays to the red and white dataframes\n",
    "red_df['color'] = color_red\n",
    "white_df['color'] = color_white"
   ]
  },
  {
   "cell_type": "markdown",
   "metadata": {},
   "source": [
    "Before to combine DataFrames with `append()` we need to rename `total_sulfur-dioxide` to `total_sulfur_dioxide` in `red_df`."
   ]
  },
  {
   "cell_type": "code",
   "execution_count": 79,
   "metadata": {},
   "outputs": [
    {
     "data": {
      "text/html": [
       "<div>\n",
       "<style scoped>\n",
       "    .dataframe tbody tr th:only-of-type {\n",
       "        vertical-align: middle;\n",
       "    }\n",
       "\n",
       "    .dataframe tbody tr th {\n",
       "        vertical-align: top;\n",
       "    }\n",
       "\n",
       "    .dataframe thead th {\n",
       "        text-align: right;\n",
       "    }\n",
       "</style>\n",
       "<table border=\"1\" class=\"dataframe\">\n",
       "  <thead>\n",
       "    <tr style=\"text-align: right;\">\n",
       "      <th></th>\n",
       "      <th>fixed_acidity</th>\n",
       "      <th>volatile_acidity</th>\n",
       "      <th>citric_acid</th>\n",
       "      <th>residual_sugar</th>\n",
       "      <th>chlorides</th>\n",
       "      <th>free_sulfur_dioxide</th>\n",
       "      <th>total_sulfur_dioxide</th>\n",
       "      <th>density</th>\n",
       "      <th>pH</th>\n",
       "      <th>sulphates</th>\n",
       "      <th>alcohol</th>\n",
       "      <th>quality</th>\n",
       "      <th>color</th>\n",
       "    </tr>\n",
       "  </thead>\n",
       "  <tbody>\n",
       "    <tr>\n",
       "      <th>0</th>\n",
       "      <td>7.4</td>\n",
       "      <td>0.70</td>\n",
       "      <td>0.00</td>\n",
       "      <td>1.9</td>\n",
       "      <td>0.076</td>\n",
       "      <td>11.0</td>\n",
       "      <td>34.0</td>\n",
       "      <td>0.9978</td>\n",
       "      <td>3.51</td>\n",
       "      <td>0.56</td>\n",
       "      <td>9.4</td>\n",
       "      <td>5</td>\n",
       "      <td>red</td>\n",
       "    </tr>\n",
       "    <tr>\n",
       "      <th>1</th>\n",
       "      <td>7.8</td>\n",
       "      <td>0.88</td>\n",
       "      <td>0.00</td>\n",
       "      <td>2.6</td>\n",
       "      <td>0.098</td>\n",
       "      <td>25.0</td>\n",
       "      <td>67.0</td>\n",
       "      <td>0.9968</td>\n",
       "      <td>3.20</td>\n",
       "      <td>0.68</td>\n",
       "      <td>9.8</td>\n",
       "      <td>5</td>\n",
       "      <td>red</td>\n",
       "    </tr>\n",
       "    <tr>\n",
       "      <th>2</th>\n",
       "      <td>7.8</td>\n",
       "      <td>0.76</td>\n",
       "      <td>0.04</td>\n",
       "      <td>2.3</td>\n",
       "      <td>0.092</td>\n",
       "      <td>15.0</td>\n",
       "      <td>54.0</td>\n",
       "      <td>0.9970</td>\n",
       "      <td>3.26</td>\n",
       "      <td>0.65</td>\n",
       "      <td>9.8</td>\n",
       "      <td>5</td>\n",
       "      <td>red</td>\n",
       "    </tr>\n",
       "    <tr>\n",
       "      <th>3</th>\n",
       "      <td>11.2</td>\n",
       "      <td>0.28</td>\n",
       "      <td>0.56</td>\n",
       "      <td>1.9</td>\n",
       "      <td>0.075</td>\n",
       "      <td>17.0</td>\n",
       "      <td>60.0</td>\n",
       "      <td>0.9980</td>\n",
       "      <td>3.16</td>\n",
       "      <td>0.58</td>\n",
       "      <td>9.8</td>\n",
       "      <td>6</td>\n",
       "      <td>red</td>\n",
       "    </tr>\n",
       "    <tr>\n",
       "      <th>4</th>\n",
       "      <td>7.4</td>\n",
       "      <td>0.70</td>\n",
       "      <td>0.00</td>\n",
       "      <td>1.9</td>\n",
       "      <td>0.076</td>\n",
       "      <td>11.0</td>\n",
       "      <td>34.0</td>\n",
       "      <td>0.9978</td>\n",
       "      <td>3.51</td>\n",
       "      <td>0.56</td>\n",
       "      <td>9.4</td>\n",
       "      <td>5</td>\n",
       "      <td>red</td>\n",
       "    </tr>\n",
       "  </tbody>\n",
       "</table>\n",
       "</div>"
      ],
      "text/plain": [
       "   fixed_acidity  volatile_acidity  citric_acid  residual_sugar  ...  sulphates  alcohol  quality  color\n",
       "0            7.4              0.70         0.00             1.9  ...       0.56      9.4        5    red\n",
       "1            7.8              0.88         0.00             2.6  ...       0.68      9.8        5    red\n",
       "2            7.8              0.76         0.04             2.3  ...       0.65      9.8        5    red\n",
       "3           11.2              0.28         0.56             1.9  ...       0.58      9.8        6    red\n",
       "4            7.4              0.70         0.00             1.9  ...       0.56      9.4        5    red\n",
       "\n",
       "[5 rows x 13 columns]"
      ]
     },
     "execution_count": 79,
     "metadata": {},
     "output_type": "execute_result"
    }
   ],
   "source": [
    "red_df.rename(columns={'total_sulfur-dioxide':'total_sulfur_dioxide'}, inplace=True)\n",
    "\n",
    "red_df.head()"
   ]
  },
  {
   "cell_type": "code",
   "execution_count": 91,
   "metadata": {},
   "outputs": [
    {
     "data": {
      "text/plain": [
       "fixed_acidity           106\n",
       "volatile_acidity        187\n",
       "citric_acid              89\n",
       "residual_sugar          316\n",
       "chlorides               214\n",
       "free_sulfur_dioxide     135\n",
       "total_sulfur_dioxide    276\n",
       "density                 998\n",
       "pH                      108\n",
       "sulphates               111\n",
       "alcohol                 111\n",
       "quality                   7\n",
       "color                     2\n",
       "dtype: int64"
      ]
     },
     "execution_count": 91,
     "metadata": {},
     "output_type": "execute_result"
    }
   ],
   "source": [
    "# append dataframes\n",
    "wine_df = red_df.append(white_df)\n",
    "\n",
    "wine_df.to_csv('./data/winequality_edited.csv', index=False)\n",
    "\n",
    "# view dataframe to check for success\n",
    "wine_df.nunique()"
   ]
  },
  {
   "cell_type": "markdown",
   "metadata": {},
   "source": [
    "# Exploring with Visuals"
   ]
  },
  {
   "cell_type": "code",
   "execution_count": 92,
   "metadata": {},
   "outputs": [],
   "source": [
    "#Load dataset\n",
    "import pandas as pd\n",
    "df = pd.read_csv('./data/winequality_edited.csv')"
   ]
  },
  {
   "cell_type": "code",
   "execution_count": 93,
   "metadata": {},
   "outputs": [
    {
     "data": {
      "image/png": "[encoded data removed]",
      "text/plain": [
       "<Figure size 1440x720 with 12 Axes>"
      ]
     },
     "metadata": {
      "needs_background": "light"
     },
     "output_type": "display_data"
    }
   ],
   "source": [
    "df.hist(figsize=(20,10));"
   ]
  },
  {
   "cell_type": "code",
   "execution_count": 108,
   "metadata": {},
   "outputs": [
    {
     "data": {
      "image/png": "[encoded data removed]",
      "text/plain": [
       "<Figure size 432x288 with 1 Axes>"
      ]
     },
     "metadata": {
      "needs_background": "light"
     },
     "output_type": "display_data"
    }
   ],
   "source": [
    "df.plot(kind='scatter', x='quality', y='volatile_acidity');"
   ]
  },
  {
   "cell_type": "code",
   "execution_count": 109,
   "metadata": {},
   "outputs": [
    {
     "data": {
      "image/png": "[encoded data removed]",
      "text/plain": [
       "<Figure size 432x288 with 1 Axes>"
      ]
     },
     "metadata": {
      "needs_background": "light"
     },
     "output_type": "display_data"
    }
   ],
   "source": [
    "df.plot(kind='scatter', x='quality', y='residual_sugar');"
   ]
  },
  {
   "cell_type": "code",
   "execution_count": 111,
   "metadata": {},
   "outputs": [
    {
     "data": {
      "image/png": "[encoded data removed]",
      "text/plain": [
       "<Figure size 432x288 with 1 Axes>"
      ]
     },
     "metadata": {
      "needs_background": "light"
     },
     "output_type": "display_data"
    }
   ],
   "source": [
    "df.plot(kind='scatter', x='quality', y='pH');"
   ]
  },
  {
   "cell_type": "code",
   "execution_count": 112,
   "metadata": {},
   "outputs": [
    {
     "data": {
      "image/png": "[encoded data removed]",
      "text/plain": [
       "<Figure size 432x288 with 1 Axes>"
      ]
     },
     "metadata": {
      "needs_background": "light"
     },
     "output_type": "display_data"
    }
   ],
   "source": [
    "df.plot(kind='scatter', x='quality', y='alcohol');"
   ]
  },
  {
   "cell_type": "markdown",
   "metadata": {},
   "source": [
    "# Matplotlib Example\n",
    "\n",
    "Below is a bar chart using `matplotlib`."
   ]
  },
  {
   "cell_type": "code",
   "execution_count": 275,
   "metadata": {},
   "outputs": [],
   "source": [
    "import matplotlib.pyplot as plt\n",
    "%matplotlib inline"
   ]
  },
  {
   "cell_type": "markdown",
   "metadata": {},
   "source": [
    "There are two required arguments in pyplot's `bar` function: the x-coordinates of the bars, and the heights of the bars."
   ]
  },
  {
   "cell_type": "code",
   "execution_count": 276,
   "metadata": {
    "scrolled": true
   },
   "outputs": [
    {
     "data": {
      "image/png": "[encoded data removed]",
      "text/plain": [
       "<Figure size 432x288 with 1 Axes>"
      ]
     },
     "metadata": {
      "needs_background": "light"
     },
     "output_type": "display_data"
    }
   ],
   "source": [
    "plt.bar([1, 2, 3], [224, 620, 425]);"
   ]
  },
  {
   "cell_type": "markdown",
   "metadata": {},
   "source": [
    "You can specify the x tick labels using pyplot's `xticks` function, or by specifying another parameter in the `bar` function. The two cells below accomplish the same thing."
   ]
  },
  {
   "cell_type": "code",
   "execution_count": 279,
   "metadata": {
    "scrolled": false
   },
   "outputs": [
    {
     "data": {
      "image/png": "[encoded data removed]",
      "text/plain": [
       "<Figure size 432x288 with 1 Axes>"
      ]
     },
     "metadata": {
      "needs_background": "light"
     },
     "output_type": "display_data"
    }
   ],
   "source": [
    "# plot bars\n",
    "plt.bar([1, 2, 3], [224, 620, 425])\n",
    "\n",
    "# specify x coordinates of tick labels and their labels\n",
    "plt.xticks([1, 2, 3], ['a', 'b', 'c']);"
   ]
  },
  {
   "cell_type": "code",
   "execution_count": 281,
   "metadata": {
    "scrolled": true
   },
   "outputs": [
    {
     "data": {
      "image/png": "[encoded data removed]",
      "text/plain": [
       "<Figure size 432x288 with 1 Axes>"
      ]
     },
     "metadata": {
      "needs_background": "light"
     },
     "output_type": "display_data"
    }
   ],
   "source": [
    "# plot bars with x tick labels\n",
    "plt.bar([1, 2, 3], [224, 620, 425], tick_label=['a', 'b', 'c']);"
   ]
  },
  {
   "cell_type": "markdown",
   "metadata": {},
   "source": [
    "Set the title and label axes like this."
   ]
  },
  {
   "cell_type": "code",
   "execution_count": 282,
   "metadata": {
    "scrolled": true
   },
   "outputs": [
    {
     "data": {
      "image/png": "[encoded data removed]",
      "text/plain": [
       "<Figure size 432x288 with 1 Axes>"
      ]
     },
     "metadata": {
      "needs_background": "light"
     },
     "output_type": "display_data"
    }
   ],
   "source": [
    "plt.bar([1, 2, 3], [224, 620, 425], tick_label=['a', 'b', 'c'])\n",
    "plt.title('Some Title')\n",
    "plt.xlabel('Some X Label')\n",
    "plt.ylabel('Some Y Label');"
   ]
  },
  {
   "cell_type": "markdown",
   "metadata": {},
   "source": [
    "# Pandas Groupby\n",
    "\n",
    "You can learn more about [pandas Groupby](https://pandas.pydata.org/pandas-docs/stable/user_guide/groupby.html) and view its documentation [here](https://pandas.pydata.org/pandas-docs/stable/reference/api/pandas.DataFrame.groupby.html).\n",
    "\n",
    "`groupby()` function let's you group your data and aggregate information about those groups or perform group specific transformations."
   ]
  },
  {
   "cell_type": "code",
   "execution_count": 113,
   "metadata": {},
   "outputs": [
    {
     "data": {
      "text/html": [
       "<div>\n",
       "<style scoped>\n",
       "    .dataframe tbody tr th:only-of-type {\n",
       "        vertical-align: middle;\n",
       "    }\n",
       "\n",
       "    .dataframe tbody tr th {\n",
       "        vertical-align: top;\n",
       "    }\n",
       "\n",
       "    .dataframe thead th {\n",
       "        text-align: right;\n",
       "    }\n",
       "</style>\n",
       "<table border=\"1\" class=\"dataframe\">\n",
       "  <thead>\n",
       "    <tr style=\"text-align: right;\">\n",
       "      <th></th>\n",
       "      <th>fixed_acidity</th>\n",
       "      <th>volatile_acidity</th>\n",
       "      <th>citric_acid</th>\n",
       "      <th>residual_sugar</th>\n",
       "      <th>chlorides</th>\n",
       "      <th>free_sulfur_dioxide</th>\n",
       "      <th>total_sulfur_dioxide</th>\n",
       "      <th>density</th>\n",
       "      <th>pH</th>\n",
       "      <th>sulphates</th>\n",
       "      <th>alcohol</th>\n",
       "      <th>quality</th>\n",
       "      <th>color</th>\n",
       "    </tr>\n",
       "  </thead>\n",
       "  <tbody>\n",
       "    <tr>\n",
       "      <th>0</th>\n",
       "      <td>7.4</td>\n",
       "      <td>0.70</td>\n",
       "      <td>0.00</td>\n",
       "      <td>1.9</td>\n",
       "      <td>0.076</td>\n",
       "      <td>11.0</td>\n",
       "      <td>34.0</td>\n",
       "      <td>0.9978</td>\n",
       "      <td>3.51</td>\n",
       "      <td>0.56</td>\n",
       "      <td>9.4</td>\n",
       "      <td>5</td>\n",
       "      <td>red</td>\n",
       "    </tr>\n",
       "    <tr>\n",
       "      <th>1</th>\n",
       "      <td>7.8</td>\n",
       "      <td>0.88</td>\n",
       "      <td>0.00</td>\n",
       "      <td>2.6</td>\n",
       "      <td>0.098</td>\n",
       "      <td>25.0</td>\n",
       "      <td>67.0</td>\n",
       "      <td>0.9968</td>\n",
       "      <td>3.20</td>\n",
       "      <td>0.68</td>\n",
       "      <td>9.8</td>\n",
       "      <td>5</td>\n",
       "      <td>red</td>\n",
       "    </tr>\n",
       "    <tr>\n",
       "      <th>2</th>\n",
       "      <td>7.8</td>\n",
       "      <td>0.76</td>\n",
       "      <td>0.04</td>\n",
       "      <td>2.3</td>\n",
       "      <td>0.092</td>\n",
       "      <td>15.0</td>\n",
       "      <td>54.0</td>\n",
       "      <td>0.9970</td>\n",
       "      <td>3.26</td>\n",
       "      <td>0.65</td>\n",
       "      <td>9.8</td>\n",
       "      <td>5</td>\n",
       "      <td>red</td>\n",
       "    </tr>\n",
       "    <tr>\n",
       "      <th>3</th>\n",
       "      <td>11.2</td>\n",
       "      <td>0.28</td>\n",
       "      <td>0.56</td>\n",
       "      <td>1.9</td>\n",
       "      <td>0.075</td>\n",
       "      <td>17.0</td>\n",
       "      <td>60.0</td>\n",
       "      <td>0.9980</td>\n",
       "      <td>3.16</td>\n",
       "      <td>0.58</td>\n",
       "      <td>9.8</td>\n",
       "      <td>6</td>\n",
       "      <td>red</td>\n",
       "    </tr>\n",
       "    <tr>\n",
       "      <th>4</th>\n",
       "      <td>7.4</td>\n",
       "      <td>0.70</td>\n",
       "      <td>0.00</td>\n",
       "      <td>1.9</td>\n",
       "      <td>0.076</td>\n",
       "      <td>11.0</td>\n",
       "      <td>34.0</td>\n",
       "      <td>0.9978</td>\n",
       "      <td>3.51</td>\n",
       "      <td>0.56</td>\n",
       "      <td>9.4</td>\n",
       "      <td>5</td>\n",
       "      <td>red</td>\n",
       "    </tr>\n",
       "  </tbody>\n",
       "</table>\n",
       "</div>"
      ],
      "text/plain": [
       "   fixed_acidity  volatile_acidity  citric_acid  residual_sugar  ...  sulphates  alcohol  quality  color\n",
       "0            7.4              0.70         0.00             1.9  ...       0.56      9.4        5    red\n",
       "1            7.8              0.88         0.00             2.6  ...       0.68      9.8        5    red\n",
       "2            7.8              0.76         0.04             2.3  ...       0.65      9.8        5    red\n",
       "3           11.2              0.28         0.56             1.9  ...       0.58      9.8        6    red\n",
       "4            7.4              0.70         0.00             1.9  ...       0.56      9.4        5    red\n",
       "\n",
       "[5 rows x 13 columns]"
      ]
     },
     "execution_count": 113,
     "metadata": {},
     "output_type": "execute_result"
    }
   ],
   "source": [
    "import pandas as pd\n",
    "\n",
    "wine_df = pd.read_csv('./data/winequality_edited.csv')\n",
    "wine_df.head()"
   ]
  },
  {
   "cell_type": "code",
   "execution_count": 114,
   "metadata": {},
   "outputs": [
    {
     "data": {
      "text/plain": [
       "fixed_acidity             7.215307\n",
       "volatile_acidity          0.339666\n",
       "citric_acid               0.318633\n",
       "residual_sugar            5.443235\n",
       "chlorides                 0.056034\n",
       "free_sulfur_dioxide      30.525319\n",
       "total_sulfur_dioxide    115.744574\n",
       "density                   0.994697\n",
       "pH                        3.218501\n",
       "sulphates                 0.531268\n",
       "alcohol                  10.491801\n",
       "quality                   5.818378\n",
       "dtype: float64"
      ]
     },
     "execution_count": 114,
     "metadata": {},
     "output_type": "execute_result"
    }
   ],
   "source": [
    "wine_df.mean()"
   ]
  },
  {
   "cell_type": "markdown",
   "metadata": {},
   "source": [
    "I can find information like the mean pH for all samples in the dataset. But if I wanted to find a mean for each `quality` rating? For example, the mean pf `pH` level for all samples of the `quality` rating `7`?"
   ]
  },
  {
   "cell_type": "code",
   "execution_count": 123,
   "metadata": {},
   "outputs": [
    {
     "data": {
      "text/html": [
       "<div>\n",
       "<style scoped>\n",
       "    .dataframe tbody tr th:only-of-type {\n",
       "        vertical-align: middle;\n",
       "    }\n",
       "\n",
       "    .dataframe tbody tr th {\n",
       "        vertical-align: top;\n",
       "    }\n",
       "\n",
       "    .dataframe thead th {\n",
       "        text-align: right;\n",
       "    }\n",
       "</style>\n",
       "<table border=\"1\" class=\"dataframe\">\n",
       "  <thead>\n",
       "    <tr style=\"text-align: right;\">\n",
       "      <th></th>\n",
       "      <th>fixed_acidity</th>\n",
       "      <th>volatile_acidity</th>\n",
       "      <th>citric_acid</th>\n",
       "      <th>residual_sugar</th>\n",
       "      <th>chlorides</th>\n",
       "      <th>free_sulfur_dioxide</th>\n",
       "      <th>total_sulfur_dioxide</th>\n",
       "      <th>density</th>\n",
       "      <th>pH</th>\n",
       "      <th>sulphates</th>\n",
       "      <th>alcohol</th>\n",
       "    </tr>\n",
       "    <tr>\n",
       "      <th>quality</th>\n",
       "      <th></th>\n",
       "      <th></th>\n",
       "      <th></th>\n",
       "      <th></th>\n",
       "      <th></th>\n",
       "      <th></th>\n",
       "      <th></th>\n",
       "      <th></th>\n",
       "      <th></th>\n",
       "      <th></th>\n",
       "      <th></th>\n",
       "    </tr>\n",
       "  </thead>\n",
       "  <tbody>\n",
       "    <tr>\n",
       "      <th>3</th>\n",
       "      <td>7.853333</td>\n",
       "      <td>0.517000</td>\n",
       "      <td>0.281000</td>\n",
       "      <td>5.140000</td>\n",
       "      <td>0.077033</td>\n",
       "      <td>39.216667</td>\n",
       "      <td>122.033333</td>\n",
       "      <td>0.995744</td>\n",
       "      <td>3.257667</td>\n",
       "      <td>0.506333</td>\n",
       "      <td>10.215000</td>\n",
       "    </tr>\n",
       "    <tr>\n",
       "      <th>4</th>\n",
       "      <td>7.288889</td>\n",
       "      <td>0.457963</td>\n",
       "      <td>0.272315</td>\n",
       "      <td>4.153704</td>\n",
       "      <td>0.060056</td>\n",
       "      <td>20.636574</td>\n",
       "      <td>103.432870</td>\n",
       "      <td>0.994833</td>\n",
       "      <td>3.231620</td>\n",
       "      <td>0.505648</td>\n",
       "      <td>10.180093</td>\n",
       "    </tr>\n",
       "    <tr>\n",
       "      <th>5</th>\n",
       "      <td>7.326801</td>\n",
       "      <td>0.389614</td>\n",
       "      <td>0.307722</td>\n",
       "      <td>5.804116</td>\n",
       "      <td>0.064666</td>\n",
       "      <td>30.237371</td>\n",
       "      <td>120.839102</td>\n",
       "      <td>0.995849</td>\n",
       "      <td>3.212189</td>\n",
       "      <td>0.526403</td>\n",
       "      <td>9.837783</td>\n",
       "    </tr>\n",
       "    <tr>\n",
       "      <th>6</th>\n",
       "      <td>7.177257</td>\n",
       "      <td>0.313863</td>\n",
       "      <td>0.323583</td>\n",
       "      <td>5.549753</td>\n",
       "      <td>0.054157</td>\n",
       "      <td>31.165021</td>\n",
       "      <td>115.410790</td>\n",
       "      <td>0.994558</td>\n",
       "      <td>3.217726</td>\n",
       "      <td>0.532549</td>\n",
       "      <td>10.587553</td>\n",
       "    </tr>\n",
       "    <tr>\n",
       "      <th>7</th>\n",
       "      <td>7.128962</td>\n",
       "      <td>0.288800</td>\n",
       "      <td>0.334764</td>\n",
       "      <td>4.731696</td>\n",
       "      <td>0.045272</td>\n",
       "      <td>30.422150</td>\n",
       "      <td>108.498610</td>\n",
       "      <td>0.993126</td>\n",
       "      <td>3.228072</td>\n",
       "      <td>0.547025</td>\n",
       "      <td>11.386006</td>\n",
       "    </tr>\n",
       "    <tr>\n",
       "      <th>8</th>\n",
       "      <td>6.835233</td>\n",
       "      <td>0.291010</td>\n",
       "      <td>0.332539</td>\n",
       "      <td>5.382902</td>\n",
       "      <td>0.041124</td>\n",
       "      <td>34.533679</td>\n",
       "      <td>117.518135</td>\n",
       "      <td>0.992514</td>\n",
       "      <td>3.223212</td>\n",
       "      <td>0.512487</td>\n",
       "      <td>11.678756</td>\n",
       "    </tr>\n",
       "    <tr>\n",
       "      <th>9</th>\n",
       "      <td>7.420000</td>\n",
       "      <td>0.298000</td>\n",
       "      <td>0.386000</td>\n",
       "      <td>4.120000</td>\n",
       "      <td>0.027400</td>\n",
       "      <td>33.400000</td>\n",
       "      <td>116.000000</td>\n",
       "      <td>0.991460</td>\n",
       "      <td>3.308000</td>\n",
       "      <td>0.466000</td>\n",
       "      <td>12.180000</td>\n",
       "    </tr>\n",
       "  </tbody>\n",
       "</table>\n",
       "</div>"
      ],
      "text/plain": [
       "         fixed_acidity  volatile_acidity  citric_acid  ...        pH  sulphates    alcohol\n",
       "quality                                                ...                                \n",
       "3             7.853333          0.517000     0.281000  ...  3.257667   0.506333  10.215000\n",
       "4             7.288889          0.457963     0.272315  ...  3.231620   0.505648  10.180093\n",
       "5             7.326801          0.389614     0.307722  ...  3.212189   0.526403   9.837783\n",
       "6             7.177257          0.313863     0.323583  ...  3.217726   0.532549  10.587553\n",
       "7             7.128962          0.288800     0.334764  ...  3.228072   0.547025  11.386006\n",
       "8             6.835233          0.291010     0.332539  ...  3.223212   0.512487  11.678756\n",
       "9             7.420000          0.298000     0.386000  ...  3.308000   0.466000  12.180000\n",
       "\n",
       "[7 rows x 11 columns]"
      ]
     },
     "execution_count": 123,
     "metadata": {},
     "output_type": "execute_result"
    }
   ],
   "source": [
    "wine_df.groupby('quality').mean()"
   ]
  },
  {
   "cell_type": "markdown",
   "metadata": {},
   "source": [
    "Also we could even split the dataset with multiple columns to `groupby` by providing a `list`."
   ]
  },
  {
   "cell_type": "code",
   "execution_count": 132,
   "metadata": {},
   "outputs": [
    {
     "data": {
      "text/html": [
       "<div>\n",
       "<style scoped>\n",
       "    .dataframe tbody tr th:only-of-type {\n",
       "        vertical-align: middle;\n",
       "    }\n",
       "\n",
       "    .dataframe tbody tr th {\n",
       "        vertical-align: top;\n",
       "    }\n",
       "\n",
       "    .dataframe thead th {\n",
       "        text-align: right;\n",
       "    }\n",
       "</style>\n",
       "<table border=\"1\" class=\"dataframe\">\n",
       "  <thead>\n",
       "    <tr style=\"text-align: right;\">\n",
       "      <th></th>\n",
       "      <th></th>\n",
       "      <th>fixed_acidity</th>\n",
       "      <th>volatile_acidity</th>\n",
       "      <th>citric_acid</th>\n",
       "      <th>residual_sugar</th>\n",
       "      <th>chlorides</th>\n",
       "      <th>free_sulfur_dioxide</th>\n",
       "      <th>total_sulfur_dioxide</th>\n",
       "      <th>density</th>\n",
       "      <th>pH</th>\n",
       "      <th>sulphates</th>\n",
       "      <th>alcohol</th>\n",
       "    </tr>\n",
       "    <tr>\n",
       "      <th>quality</th>\n",
       "      <th>color</th>\n",
       "      <th></th>\n",
       "      <th></th>\n",
       "      <th></th>\n",
       "      <th></th>\n",
       "      <th></th>\n",
       "      <th></th>\n",
       "      <th></th>\n",
       "      <th></th>\n",
       "      <th></th>\n",
       "      <th></th>\n",
       "      <th></th>\n",
       "    </tr>\n",
       "  </thead>\n",
       "  <tbody>\n",
       "    <tr>\n",
       "      <th rowspan=\"2\" valign=\"top\">3</th>\n",
       "      <th>red</th>\n",
       "      <td>8.360000</td>\n",
       "      <td>0.884500</td>\n",
       "      <td>0.171000</td>\n",
       "      <td>2.635000</td>\n",
       "      <td>0.122500</td>\n",
       "      <td>11.000000</td>\n",
       "      <td>24.900000</td>\n",
       "      <td>0.997464</td>\n",
       "      <td>3.398000</td>\n",
       "      <td>0.570000</td>\n",
       "      <td>9.955000</td>\n",
       "    </tr>\n",
       "    <tr>\n",
       "      <th>white</th>\n",
       "      <td>7.600000</td>\n",
       "      <td>0.333250</td>\n",
       "      <td>0.336000</td>\n",
       "      <td>6.392500</td>\n",
       "      <td>0.054300</td>\n",
       "      <td>53.325000</td>\n",
       "      <td>170.600000</td>\n",
       "      <td>0.994884</td>\n",
       "      <td>3.187500</td>\n",
       "      <td>0.474500</td>\n",
       "      <td>10.345000</td>\n",
       "    </tr>\n",
       "    <tr>\n",
       "      <th rowspan=\"2\" valign=\"top\">4</th>\n",
       "      <th>red</th>\n",
       "      <td>7.779245</td>\n",
       "      <td>0.693962</td>\n",
       "      <td>0.174151</td>\n",
       "      <td>2.694340</td>\n",
       "      <td>0.090679</td>\n",
       "      <td>12.264151</td>\n",
       "      <td>36.245283</td>\n",
       "      <td>0.996542</td>\n",
       "      <td>3.381509</td>\n",
       "      <td>0.596415</td>\n",
       "      <td>10.265094</td>\n",
       "    </tr>\n",
       "    <tr>\n",
       "      <th>white</th>\n",
       "      <td>7.129448</td>\n",
       "      <td>0.381227</td>\n",
       "      <td>0.304233</td>\n",
       "      <td>4.628221</td>\n",
       "      <td>0.050098</td>\n",
       "      <td>23.358896</td>\n",
       "      <td>125.279141</td>\n",
       "      <td>0.994277</td>\n",
       "      <td>3.182883</td>\n",
       "      <td>0.476135</td>\n",
       "      <td>10.152454</td>\n",
       "    </tr>\n",
       "    <tr>\n",
       "      <th rowspan=\"2\" valign=\"top\">5</th>\n",
       "      <th>red</th>\n",
       "      <td>8.167254</td>\n",
       "      <td>0.577041</td>\n",
       "      <td>0.243686</td>\n",
       "      <td>2.528855</td>\n",
       "      <td>0.092736</td>\n",
       "      <td>16.983847</td>\n",
       "      <td>56.513950</td>\n",
       "      <td>0.997104</td>\n",
       "      <td>3.304949</td>\n",
       "      <td>0.620969</td>\n",
       "      <td>9.899706</td>\n",
       "    </tr>\n",
       "    <tr>\n",
       "      <th>white</th>\n",
       "      <td>6.933974</td>\n",
       "      <td>0.302011</td>\n",
       "      <td>0.337653</td>\n",
       "      <td>7.334969</td>\n",
       "      <td>0.051546</td>\n",
       "      <td>36.432052</td>\n",
       "      <td>150.904598</td>\n",
       "      <td>0.995263</td>\n",
       "      <td>3.168833</td>\n",
       "      <td>0.482203</td>\n",
       "      <td>9.808840</td>\n",
       "    </tr>\n",
       "    <tr>\n",
       "      <th rowspan=\"2\" valign=\"top\">6</th>\n",
       "      <th>red</th>\n",
       "      <td>8.347179</td>\n",
       "      <td>0.497484</td>\n",
       "      <td>0.273824</td>\n",
       "      <td>2.477194</td>\n",
       "      <td>0.084956</td>\n",
       "      <td>15.711599</td>\n",
       "      <td>40.869906</td>\n",
       "      <td>0.996615</td>\n",
       "      <td>3.318072</td>\n",
       "      <td>0.675329</td>\n",
       "      <td>10.629519</td>\n",
       "    </tr>\n",
       "    <tr>\n",
       "      <th>white</th>\n",
       "      <td>6.837671</td>\n",
       "      <td>0.260564</td>\n",
       "      <td>0.338025</td>\n",
       "      <td>6.441606</td>\n",
       "      <td>0.045217</td>\n",
       "      <td>35.650591</td>\n",
       "      <td>137.047316</td>\n",
       "      <td>0.993961</td>\n",
       "      <td>3.188599</td>\n",
       "      <td>0.491106</td>\n",
       "      <td>10.575372</td>\n",
       "    </tr>\n",
       "    <tr>\n",
       "      <th rowspan=\"2\" valign=\"top\">7</th>\n",
       "      <th>red</th>\n",
       "      <td>8.872362</td>\n",
       "      <td>0.403920</td>\n",
       "      <td>0.375176</td>\n",
       "      <td>2.720603</td>\n",
       "      <td>0.076588</td>\n",
       "      <td>14.045226</td>\n",
       "      <td>35.020101</td>\n",
       "      <td>0.996104</td>\n",
       "      <td>3.290754</td>\n",
       "      <td>0.741256</td>\n",
       "      <td>11.465913</td>\n",
       "    </tr>\n",
       "    <tr>\n",
       "      <th>white</th>\n",
       "      <td>6.734716</td>\n",
       "      <td>0.262767</td>\n",
       "      <td>0.325625</td>\n",
       "      <td>5.186477</td>\n",
       "      <td>0.038191</td>\n",
       "      <td>34.125568</td>\n",
       "      <td>125.114773</td>\n",
       "      <td>0.992452</td>\n",
       "      <td>3.213898</td>\n",
       "      <td>0.503102</td>\n",
       "      <td>11.367936</td>\n",
       "    </tr>\n",
       "    <tr>\n",
       "      <th rowspan=\"2\" valign=\"top\">8</th>\n",
       "      <th>red</th>\n",
       "      <td>8.566667</td>\n",
       "      <td>0.423333</td>\n",
       "      <td>0.391111</td>\n",
       "      <td>2.577778</td>\n",
       "      <td>0.068444</td>\n",
       "      <td>13.277778</td>\n",
       "      <td>33.444444</td>\n",
       "      <td>0.995212</td>\n",
       "      <td>3.267222</td>\n",
       "      <td>0.767778</td>\n",
       "      <td>12.094444</td>\n",
       "    </tr>\n",
       "    <tr>\n",
       "      <th>white</th>\n",
       "      <td>6.657143</td>\n",
       "      <td>0.277400</td>\n",
       "      <td>0.326514</td>\n",
       "      <td>5.671429</td>\n",
       "      <td>0.038314</td>\n",
       "      <td>36.720000</td>\n",
       "      <td>126.165714</td>\n",
       "      <td>0.992236</td>\n",
       "      <td>3.218686</td>\n",
       "      <td>0.486229</td>\n",
       "      <td>11.636000</td>\n",
       "    </tr>\n",
       "    <tr>\n",
       "      <th>9</th>\n",
       "      <th>white</th>\n",
       "      <td>7.420000</td>\n",
       "      <td>0.298000</td>\n",
       "      <td>0.386000</td>\n",
       "      <td>4.120000</td>\n",
       "      <td>0.027400</td>\n",
       "      <td>33.400000</td>\n",
       "      <td>116.000000</td>\n",
       "      <td>0.991460</td>\n",
       "      <td>3.308000</td>\n",
       "      <td>0.466000</td>\n",
       "      <td>12.180000</td>\n",
       "    </tr>\n",
       "  </tbody>\n",
       "</table>\n",
       "</div>"
      ],
      "text/plain": [
       "               fixed_acidity  volatile_acidity  citric_acid  ...        pH  sulphates    alcohol\n",
       "quality color                                                ...                                \n",
       "3       red         8.360000          0.884500     0.171000  ...  3.398000   0.570000   9.955000\n",
       "        white       7.600000          0.333250     0.336000  ...  3.187500   0.474500  10.345000\n",
       "4       red         7.779245          0.693962     0.174151  ...  3.381509   0.596415  10.265094\n",
       "        white       7.129448          0.381227     0.304233  ...  3.182883   0.476135  10.152454\n",
       "5       red         8.167254          0.577041     0.243686  ...  3.304949   0.620969   9.899706\n",
       "        white       6.933974          0.302011     0.337653  ...  3.168833   0.482203   9.808840\n",
       "6       red         8.347179          0.497484     0.273824  ...  3.318072   0.675329  10.629519\n",
       "        white       6.837671          0.260564     0.338025  ...  3.188599   0.491106  10.575372\n",
       "7       red         8.872362          0.403920     0.375176  ...  3.290754   0.741256  11.465913\n",
       "        white       6.734716          0.262767     0.325625  ...  3.213898   0.503102  11.367936\n",
       "8       red         8.566667          0.423333     0.391111  ...  3.267222   0.767778  12.094444\n",
       "        white       6.657143          0.277400     0.326514  ...  3.218686   0.486229  11.636000\n",
       "9       white       7.420000          0.298000     0.386000  ...  3.308000   0.466000  12.180000\n",
       "\n",
       "[13 rows x 11 columns]"
      ]
     },
     "execution_count": 132,
     "metadata": {},
     "output_type": "execute_result"
    }
   ],
   "source": [
    "wine_df.groupby(['quality', 'color']).mean()"
   ]
  },
  {
   "cell_type": "markdown",
   "metadata": {},
   "source": [
    "If you do not want `quality` or `color` to be made as the index, you could set `as_index = False`."
   ]
  },
  {
   "cell_type": "code",
   "execution_count": 133,
   "metadata": {},
   "outputs": [
    {
     "data": {
      "text/html": [
       "<div>\n",
       "<style scoped>\n",
       "    .dataframe tbody tr th:only-of-type {\n",
       "        vertical-align: middle;\n",
       "    }\n",
       "\n",
       "    .dataframe tbody tr th {\n",
       "        vertical-align: top;\n",
       "    }\n",
       "\n",
       "    .dataframe thead th {\n",
       "        text-align: right;\n",
       "    }\n",
       "</style>\n",
       "<table border=\"1\" class=\"dataframe\">\n",
       "  <thead>\n",
       "    <tr style=\"text-align: right;\">\n",
       "      <th></th>\n",
       "      <th>quality</th>\n",
       "      <th>color</th>\n",
       "      <th>fixed_acidity</th>\n",
       "      <th>volatile_acidity</th>\n",
       "      <th>citric_acid</th>\n",
       "      <th>residual_sugar</th>\n",
       "      <th>chlorides</th>\n",
       "      <th>free_sulfur_dioxide</th>\n",
       "      <th>total_sulfur_dioxide</th>\n",
       "      <th>density</th>\n",
       "      <th>pH</th>\n",
       "      <th>sulphates</th>\n",
       "      <th>alcohol</th>\n",
       "    </tr>\n",
       "  </thead>\n",
       "  <tbody>\n",
       "    <tr>\n",
       "      <th>0</th>\n",
       "      <td>3</td>\n",
       "      <td>red</td>\n",
       "      <td>8.360000</td>\n",
       "      <td>0.884500</td>\n",
       "      <td>0.171000</td>\n",
       "      <td>2.635000</td>\n",
       "      <td>0.122500</td>\n",
       "      <td>11.000000</td>\n",
       "      <td>24.900000</td>\n",
       "      <td>0.997464</td>\n",
       "      <td>3.398000</td>\n",
       "      <td>0.570000</td>\n",
       "      <td>9.955000</td>\n",
       "    </tr>\n",
       "    <tr>\n",
       "      <th>1</th>\n",
       "      <td>3</td>\n",
       "      <td>white</td>\n",
       "      <td>7.600000</td>\n",
       "      <td>0.333250</td>\n",
       "      <td>0.336000</td>\n",
       "      <td>6.392500</td>\n",
       "      <td>0.054300</td>\n",
       "      <td>53.325000</td>\n",
       "      <td>170.600000</td>\n",
       "      <td>0.994884</td>\n",
       "      <td>3.187500</td>\n",
       "      <td>0.474500</td>\n",
       "      <td>10.345000</td>\n",
       "    </tr>\n",
       "    <tr>\n",
       "      <th>2</th>\n",
       "      <td>4</td>\n",
       "      <td>red</td>\n",
       "      <td>7.779245</td>\n",
       "      <td>0.693962</td>\n",
       "      <td>0.174151</td>\n",
       "      <td>2.694340</td>\n",
       "      <td>0.090679</td>\n",
       "      <td>12.264151</td>\n",
       "      <td>36.245283</td>\n",
       "      <td>0.996542</td>\n",
       "      <td>3.381509</td>\n",
       "      <td>0.596415</td>\n",
       "      <td>10.265094</td>\n",
       "    </tr>\n",
       "    <tr>\n",
       "      <th>3</th>\n",
       "      <td>4</td>\n",
       "      <td>white</td>\n",
       "      <td>7.129448</td>\n",
       "      <td>0.381227</td>\n",
       "      <td>0.304233</td>\n",
       "      <td>4.628221</td>\n",
       "      <td>0.050098</td>\n",
       "      <td>23.358896</td>\n",
       "      <td>125.279141</td>\n",
       "      <td>0.994277</td>\n",
       "      <td>3.182883</td>\n",
       "      <td>0.476135</td>\n",
       "      <td>10.152454</td>\n",
       "    </tr>\n",
       "    <tr>\n",
       "      <th>4</th>\n",
       "      <td>5</td>\n",
       "      <td>red</td>\n",
       "      <td>8.167254</td>\n",
       "      <td>0.577041</td>\n",
       "      <td>0.243686</td>\n",
       "      <td>2.528855</td>\n",
       "      <td>0.092736</td>\n",
       "      <td>16.983847</td>\n",
       "      <td>56.513950</td>\n",
       "      <td>0.997104</td>\n",
       "      <td>3.304949</td>\n",
       "      <td>0.620969</td>\n",
       "      <td>9.899706</td>\n",
       "    </tr>\n",
       "    <tr>\n",
       "      <th>5</th>\n",
       "      <td>5</td>\n",
       "      <td>white</td>\n",
       "      <td>6.933974</td>\n",
       "      <td>0.302011</td>\n",
       "      <td>0.337653</td>\n",
       "      <td>7.334969</td>\n",
       "      <td>0.051546</td>\n",
       "      <td>36.432052</td>\n",
       "      <td>150.904598</td>\n",
       "      <td>0.995263</td>\n",
       "      <td>3.168833</td>\n",
       "      <td>0.482203</td>\n",
       "      <td>9.808840</td>\n",
       "    </tr>\n",
       "    <tr>\n",
       "      <th>6</th>\n",
       "      <td>6</td>\n",
       "      <td>red</td>\n",
       "      <td>8.347179</td>\n",
       "      <td>0.497484</td>\n",
       "      <td>0.273824</td>\n",
       "      <td>2.477194</td>\n",
       "      <td>0.084956</td>\n",
       "      <td>15.711599</td>\n",
       "      <td>40.869906</td>\n",
       "      <td>0.996615</td>\n",
       "      <td>3.318072</td>\n",
       "      <td>0.675329</td>\n",
       "      <td>10.629519</td>\n",
       "    </tr>\n",
       "    <tr>\n",
       "      <th>7</th>\n",
       "      <td>6</td>\n",
       "      <td>white</td>\n",
       "      <td>6.837671</td>\n",
       "      <td>0.260564</td>\n",
       "      <td>0.338025</td>\n",
       "      <td>6.441606</td>\n",
       "      <td>0.045217</td>\n",
       "      <td>35.650591</td>\n",
       "      <td>137.047316</td>\n",
       "      <td>0.993961</td>\n",
       "      <td>3.188599</td>\n",
       "      <td>0.491106</td>\n",
       "      <td>10.575372</td>\n",
       "    </tr>\n",
       "    <tr>\n",
       "      <th>8</th>\n",
       "      <td>7</td>\n",
       "      <td>red</td>\n",
       "      <td>8.872362</td>\n",
       "      <td>0.403920</td>\n",
       "      <td>0.375176</td>\n",
       "      <td>2.720603</td>\n",
       "      <td>0.076588</td>\n",
       "      <td>14.045226</td>\n",
       "      <td>35.020101</td>\n",
       "      <td>0.996104</td>\n",
       "      <td>3.290754</td>\n",
       "      <td>0.741256</td>\n",
       "      <td>11.465913</td>\n",
       "    </tr>\n",
       "    <tr>\n",
       "      <th>9</th>\n",
       "      <td>7</td>\n",
       "      <td>white</td>\n",
       "      <td>6.734716</td>\n",
       "      <td>0.262767</td>\n",
       "      <td>0.325625</td>\n",
       "      <td>5.186477</td>\n",
       "      <td>0.038191</td>\n",
       "      <td>34.125568</td>\n",
       "      <td>125.114773</td>\n",
       "      <td>0.992452</td>\n",
       "      <td>3.213898</td>\n",
       "      <td>0.503102</td>\n",
       "      <td>11.367936</td>\n",
       "    </tr>\n",
       "    <tr>\n",
       "      <th>10</th>\n",
       "      <td>8</td>\n",
       "      <td>red</td>\n",
       "      <td>8.566667</td>\n",
       "      <td>0.423333</td>\n",
       "      <td>0.391111</td>\n",
       "      <td>2.577778</td>\n",
       "      <td>0.068444</td>\n",
       "      <td>13.277778</td>\n",
       "      <td>33.444444</td>\n",
       "      <td>0.995212</td>\n",
       "      <td>3.267222</td>\n",
       "      <td>0.767778</td>\n",
       "      <td>12.094444</td>\n",
       "    </tr>\n",
       "    <tr>\n",
       "      <th>11</th>\n",
       "      <td>8</td>\n",
       "      <td>white</td>\n",
       "      <td>6.657143</td>\n",
       "      <td>0.277400</td>\n",
       "      <td>0.326514</td>\n",
       "      <td>5.671429</td>\n",
       "      <td>0.038314</td>\n",
       "      <td>36.720000</td>\n",
       "      <td>126.165714</td>\n",
       "      <td>0.992236</td>\n",
       "      <td>3.218686</td>\n",
       "      <td>0.486229</td>\n",
       "      <td>11.636000</td>\n",
       "    </tr>\n",
       "    <tr>\n",
       "      <th>12</th>\n",
       "      <td>9</td>\n",
       "      <td>white</td>\n",
       "      <td>7.420000</td>\n",
       "      <td>0.298000</td>\n",
       "      <td>0.386000</td>\n",
       "      <td>4.120000</td>\n",
       "      <td>0.027400</td>\n",
       "      <td>33.400000</td>\n",
       "      <td>116.000000</td>\n",
       "      <td>0.991460</td>\n",
       "      <td>3.308000</td>\n",
       "      <td>0.466000</td>\n",
       "      <td>12.180000</td>\n",
       "    </tr>\n",
       "  </tbody>\n",
       "</table>\n",
       "</div>"
      ],
      "text/plain": [
       "    quality  color  fixed_acidity  volatile_acidity  ...   density        pH  sulphates    alcohol\n",
       "0         3    red       8.360000          0.884500  ...  0.997464  3.398000   0.570000   9.955000\n",
       "1         3  white       7.600000          0.333250  ...  0.994884  3.187500   0.474500  10.345000\n",
       "2         4    red       7.779245          0.693962  ...  0.996542  3.381509   0.596415  10.265094\n",
       "3         4  white       7.129448          0.381227  ...  0.994277  3.182883   0.476135  10.152454\n",
       "4         5    red       8.167254          0.577041  ...  0.997104  3.304949   0.620969   9.899706\n",
       "5         5  white       6.933974          0.302011  ...  0.995263  3.168833   0.482203   9.808840\n",
       "6         6    red       8.347179          0.497484  ...  0.996615  3.318072   0.675329  10.629519\n",
       "7         6  white       6.837671          0.260564  ...  0.993961  3.188599   0.491106  10.575372\n",
       "8         7    red       8.872362          0.403920  ...  0.996104  3.290754   0.741256  11.465913\n",
       "9         7  white       6.734716          0.262767  ...  0.992452  3.213898   0.503102  11.367936\n",
       "10        8    red       8.566667          0.423333  ...  0.995212  3.267222   0.767778  12.094444\n",
       "11        8  white       6.657143          0.277400  ...  0.992236  3.218686   0.486229  11.636000\n",
       "12        9  white       7.420000          0.298000  ...  0.991460  3.308000   0.466000  12.180000\n",
       "\n",
       "[13 rows x 13 columns]"
      ]
     },
     "execution_count": 133,
     "metadata": {},
     "output_type": "execute_result"
    }
   ],
   "source": [
    "wine_df.groupby(['quality', 'color'], as_index=False).mean()"
   ]
  },
  {
   "cell_type": "markdown",
   "metadata": {},
   "source": [
    "If you are only interested in one of the columns, like the `pH`, you could index the groups like this."
   ]
  },
  {
   "cell_type": "code",
   "execution_count": 134,
   "metadata": {
    "scrolled": false
   },
   "outputs": [
    {
     "data": {
      "text/html": [
       "<div>\n",
       "<style scoped>\n",
       "    .dataframe tbody tr th:only-of-type {\n",
       "        vertical-align: middle;\n",
       "    }\n",
       "\n",
       "    .dataframe tbody tr th {\n",
       "        vertical-align: top;\n",
       "    }\n",
       "\n",
       "    .dataframe thead th {\n",
       "        text-align: right;\n",
       "    }\n",
       "</style>\n",
       "<table border=\"1\" class=\"dataframe\">\n",
       "  <thead>\n",
       "    <tr style=\"text-align: right;\">\n",
       "      <th></th>\n",
       "      <th>quality</th>\n",
       "      <th>color</th>\n",
       "      <th>pH</th>\n",
       "    </tr>\n",
       "  </thead>\n",
       "  <tbody>\n",
       "    <tr>\n",
       "      <th>0</th>\n",
       "      <td>3</td>\n",
       "      <td>red</td>\n",
       "      <td>3.398000</td>\n",
       "    </tr>\n",
       "    <tr>\n",
       "      <th>1</th>\n",
       "      <td>3</td>\n",
       "      <td>white</td>\n",
       "      <td>3.187500</td>\n",
       "    </tr>\n",
       "    <tr>\n",
       "      <th>2</th>\n",
       "      <td>4</td>\n",
       "      <td>red</td>\n",
       "      <td>3.381509</td>\n",
       "    </tr>\n",
       "    <tr>\n",
       "      <th>3</th>\n",
       "      <td>4</td>\n",
       "      <td>white</td>\n",
       "      <td>3.182883</td>\n",
       "    </tr>\n",
       "    <tr>\n",
       "      <th>4</th>\n",
       "      <td>5</td>\n",
       "      <td>red</td>\n",
       "      <td>3.304949</td>\n",
       "    </tr>\n",
       "    <tr>\n",
       "      <th>5</th>\n",
       "      <td>5</td>\n",
       "      <td>white</td>\n",
       "      <td>3.168833</td>\n",
       "    </tr>\n",
       "    <tr>\n",
       "      <th>6</th>\n",
       "      <td>6</td>\n",
       "      <td>red</td>\n",
       "      <td>3.318072</td>\n",
       "    </tr>\n",
       "    <tr>\n",
       "      <th>7</th>\n",
       "      <td>6</td>\n",
       "      <td>white</td>\n",
       "      <td>3.188599</td>\n",
       "    </tr>\n",
       "    <tr>\n",
       "      <th>8</th>\n",
       "      <td>7</td>\n",
       "      <td>red</td>\n",
       "      <td>3.290754</td>\n",
       "    </tr>\n",
       "    <tr>\n",
       "      <th>9</th>\n",
       "      <td>7</td>\n",
       "      <td>white</td>\n",
       "      <td>3.213898</td>\n",
       "    </tr>\n",
       "    <tr>\n",
       "      <th>10</th>\n",
       "      <td>8</td>\n",
       "      <td>red</td>\n",
       "      <td>3.267222</td>\n",
       "    </tr>\n",
       "    <tr>\n",
       "      <th>11</th>\n",
       "      <td>8</td>\n",
       "      <td>white</td>\n",
       "      <td>3.218686</td>\n",
       "    </tr>\n",
       "    <tr>\n",
       "      <th>12</th>\n",
       "      <td>9</td>\n",
       "      <td>white</td>\n",
       "      <td>3.308000</td>\n",
       "    </tr>\n",
       "  </tbody>\n",
       "</table>\n",
       "</div>"
      ],
      "text/plain": [
       "    quality  color        pH\n",
       "0         3    red  3.398000\n",
       "1         3  white  3.187500\n",
       "2         4    red  3.381509\n",
       "3         4  white  3.182883\n",
       "4         5    red  3.304949\n",
       "5         5  white  3.168833\n",
       "6         6    red  3.318072\n",
       "7         6  white  3.188599\n",
       "8         7    red  3.290754\n",
       "9         7  white  3.213898\n",
       "10        8    red  3.267222\n",
       "11        8  white  3.218686\n",
       "12        9  white  3.308000"
      ]
     },
     "execution_count": 134,
     "metadata": {},
     "output_type": "execute_result"
    }
   ],
   "source": [
    "wine_df.groupby(['quality', 'color'], as_index=False)['pH'].mean()"
   ]
  },
  {
   "cell_type": "markdown",
   "metadata": {},
   "source": [
    "## Example using Groupby"
   ]
  },
  {
   "cell_type": "code",
   "execution_count": 136,
   "metadata": {},
   "outputs": [],
   "source": [
    "# Load dataset\n",
    "import pandas as pd\n",
    "df = pd.read_csv('./data/winequality_edited.csv')"
   ]
  },
  {
   "cell_type": "code",
   "execution_count": 143,
   "metadata": {},
   "outputs": [
    {
     "data": {
      "text/html": [
       "<div>\n",
       "<style scoped>\n",
       "    .dataframe tbody tr th:only-of-type {\n",
       "        vertical-align: middle;\n",
       "    }\n",
       "\n",
       "    .dataframe tbody tr th {\n",
       "        vertical-align: top;\n",
       "    }\n",
       "\n",
       "    .dataframe thead th {\n",
       "        text-align: right;\n",
       "    }\n",
       "</style>\n",
       "<table border=\"1\" class=\"dataframe\">\n",
       "  <thead>\n",
       "    <tr style=\"text-align: right;\">\n",
       "      <th></th>\n",
       "      <th>color</th>\n",
       "      <th>quality</th>\n",
       "    </tr>\n",
       "  </thead>\n",
       "  <tbody>\n",
       "    <tr>\n",
       "      <th>0</th>\n",
       "      <td>red</td>\n",
       "      <td>5.636023</td>\n",
       "    </tr>\n",
       "    <tr>\n",
       "      <th>1</th>\n",
       "      <td>white</td>\n",
       "      <td>5.877909</td>\n",
       "    </tr>\n",
       "  </tbody>\n",
       "</table>\n",
       "</div>"
      ],
      "text/plain": [
       "   color   quality\n",
       "0    red  5.636023\n",
       "1  white  5.877909"
      ]
     },
     "execution_count": 143,
     "metadata": {},
     "output_type": "execute_result"
    }
   ],
   "source": [
    "# Find the mean quality of each wine type (red and white) with groupby\n",
    "df.groupby(['color'], as_index=False)['quality'].mean()"
   ]
  },
  {
   "cell_type": "code",
   "execution_count": 171,
   "metadata": {},
   "outputs": [
    {
     "data": {
      "text/plain": [
       "count    6497.000000\n",
       "mean        3.218501\n",
       "std         0.160787\n",
       "min         2.720000\n",
       "25%         3.110000\n",
       "50%         3.210000\n",
       "75%         3.320000\n",
       "max         4.010000\n",
       "Name: pH, dtype: float64"
      ]
     },
     "execution_count": 171,
     "metadata": {},
     "output_type": "execute_result"
    }
   ],
   "source": [
    "# View the min, 25%, 50%, 75%, max pH values with Pandas describe\n",
    "df['pH'].describe()"
   ]
  },
  {
   "cell_type": "code",
   "execution_count": 172,
   "metadata": {},
   "outputs": [],
   "source": [
    "# Bin edges that will be used to \"cut\" the data into groups\n",
    "bin_edges = [2.720000, 3.110000, 3.210000, 3.320000, 4.010000] # Fill in this list with five values you just found"
   ]
  },
  {
   "cell_type": "code",
   "execution_count": 173,
   "metadata": {},
   "outputs": [],
   "source": [
    "# Labels for the four acidity level groups\n",
    "bin_names = ['High', 'Moderately', 'Medium', 'Low'] # Name each acidity level category"
   ]
  },
  {
   "cell_type": "code",
   "execution_count": 174,
   "metadata": {},
   "outputs": [
    {
     "data": {
      "text/html": [
       "<div>\n",
       "<style scoped>\n",
       "    .dataframe tbody tr th:only-of-type {\n",
       "        vertical-align: middle;\n",
       "    }\n",
       "\n",
       "    .dataframe tbody tr th {\n",
       "        vertical-align: top;\n",
       "    }\n",
       "\n",
       "    .dataframe thead th {\n",
       "        text-align: right;\n",
       "    }\n",
       "</style>\n",
       "<table border=\"1\" class=\"dataframe\">\n",
       "  <thead>\n",
       "    <tr style=\"text-align: right;\">\n",
       "      <th></th>\n",
       "      <th>fixed_acidity</th>\n",
       "      <th>volatile_acidity</th>\n",
       "      <th>citric_acid</th>\n",
       "      <th>residual_sugar</th>\n",
       "      <th>chlorides</th>\n",
       "      <th>free_sulfur_dioxide</th>\n",
       "      <th>total_sulfur_dioxide</th>\n",
       "      <th>density</th>\n",
       "      <th>pH</th>\n",
       "      <th>sulphates</th>\n",
       "      <th>alcohol</th>\n",
       "      <th>quality</th>\n",
       "      <th>color</th>\n",
       "      <th>acidity_levels</th>\n",
       "    </tr>\n",
       "  </thead>\n",
       "  <tbody>\n",
       "    <tr>\n",
       "      <th>0</th>\n",
       "      <td>7.4</td>\n",
       "      <td>0.70</td>\n",
       "      <td>0.00</td>\n",
       "      <td>1.9</td>\n",
       "      <td>0.076</td>\n",
       "      <td>11.0</td>\n",
       "      <td>34.0</td>\n",
       "      <td>0.9978</td>\n",
       "      <td>3.51</td>\n",
       "      <td>0.56</td>\n",
       "      <td>9.4</td>\n",
       "      <td>5</td>\n",
       "      <td>red</td>\n",
       "      <td>Low</td>\n",
       "    </tr>\n",
       "    <tr>\n",
       "      <th>1</th>\n",
       "      <td>7.8</td>\n",
       "      <td>0.88</td>\n",
       "      <td>0.00</td>\n",
       "      <td>2.6</td>\n",
       "      <td>0.098</td>\n",
       "      <td>25.0</td>\n",
       "      <td>67.0</td>\n",
       "      <td>0.9968</td>\n",
       "      <td>3.20</td>\n",
       "      <td>0.68</td>\n",
       "      <td>9.8</td>\n",
       "      <td>5</td>\n",
       "      <td>red</td>\n",
       "      <td>Moderately</td>\n",
       "    </tr>\n",
       "    <tr>\n",
       "      <th>2</th>\n",
       "      <td>7.8</td>\n",
       "      <td>0.76</td>\n",
       "      <td>0.04</td>\n",
       "      <td>2.3</td>\n",
       "      <td>0.092</td>\n",
       "      <td>15.0</td>\n",
       "      <td>54.0</td>\n",
       "      <td>0.9970</td>\n",
       "      <td>3.26</td>\n",
       "      <td>0.65</td>\n",
       "      <td>9.8</td>\n",
       "      <td>5</td>\n",
       "      <td>red</td>\n",
       "      <td>Medium</td>\n",
       "    </tr>\n",
       "    <tr>\n",
       "      <th>3</th>\n",
       "      <td>11.2</td>\n",
       "      <td>0.28</td>\n",
       "      <td>0.56</td>\n",
       "      <td>1.9</td>\n",
       "      <td>0.075</td>\n",
       "      <td>17.0</td>\n",
       "      <td>60.0</td>\n",
       "      <td>0.9980</td>\n",
       "      <td>3.16</td>\n",
       "      <td>0.58</td>\n",
       "      <td>9.8</td>\n",
       "      <td>6</td>\n",
       "      <td>red</td>\n",
       "      <td>Moderately</td>\n",
       "    </tr>\n",
       "    <tr>\n",
       "      <th>4</th>\n",
       "      <td>7.4</td>\n",
       "      <td>0.70</td>\n",
       "      <td>0.00</td>\n",
       "      <td>1.9</td>\n",
       "      <td>0.076</td>\n",
       "      <td>11.0</td>\n",
       "      <td>34.0</td>\n",
       "      <td>0.9978</td>\n",
       "      <td>3.51</td>\n",
       "      <td>0.56</td>\n",
       "      <td>9.4</td>\n",
       "      <td>5</td>\n",
       "      <td>red</td>\n",
       "      <td>Low</td>\n",
       "    </tr>\n",
       "  </tbody>\n",
       "</table>\n",
       "</div>"
      ],
      "text/plain": [
       "   fixed_acidity  volatile_acidity  citric_acid  residual_sugar  ...  alcohol  quality  color  acidity_levels\n",
       "0            7.4              0.70         0.00             1.9  ...      9.4        5    red             Low\n",
       "1            7.8              0.88         0.00             2.6  ...      9.8        5    red      Moderately\n",
       "2            7.8              0.76         0.04             2.3  ...      9.8        5    red          Medium\n",
       "3           11.2              0.28         0.56             1.9  ...      9.8        6    red      Moderately\n",
       "4            7.4              0.70         0.00             1.9  ...      9.4        5    red             Low\n",
       "\n",
       "[5 rows x 14 columns]"
      ]
     },
     "execution_count": 174,
     "metadata": {},
     "output_type": "execute_result"
    }
   ],
   "source": [
    "# Creates acidity_levels column\n",
    "df['acidity_levels'] = pd.cut(df['pH'], bin_edges, labels=bin_names)\n",
    "\n",
    "# Checks for successful creation of this column\n",
    "df.head()"
   ]
  },
  {
   "cell_type": "code",
   "execution_count": 177,
   "metadata": {},
   "outputs": [
    {
     "data": {
      "text/html": [
       "<div>\n",
       "<style scoped>\n",
       "    .dataframe tbody tr th:only-of-type {\n",
       "        vertical-align: middle;\n",
       "    }\n",
       "\n",
       "    .dataframe tbody tr th {\n",
       "        vertical-align: top;\n",
       "    }\n",
       "\n",
       "    .dataframe thead th {\n",
       "        text-align: right;\n",
       "    }\n",
       "</style>\n",
       "<table border=\"1\" class=\"dataframe\">\n",
       "  <thead>\n",
       "    <tr style=\"text-align: right;\">\n",
       "      <th></th>\n",
       "      <th>acidity_levels</th>\n",
       "      <th>quality</th>\n",
       "    </tr>\n",
       "  </thead>\n",
       "  <tbody>\n",
       "    <tr>\n",
       "      <th>0</th>\n",
       "      <td>High</td>\n",
       "      <td>5.783343</td>\n",
       "    </tr>\n",
       "    <tr>\n",
       "      <th>1</th>\n",
       "      <td>Moderately</td>\n",
       "      <td>5.784540</td>\n",
       "    </tr>\n",
       "    <tr>\n",
       "      <th>2</th>\n",
       "      <td>Medium</td>\n",
       "      <td>5.850832</td>\n",
       "    </tr>\n",
       "    <tr>\n",
       "      <th>3</th>\n",
       "      <td>Low</td>\n",
       "      <td>5.859593</td>\n",
       "    </tr>\n",
       "  </tbody>\n",
       "</table>\n",
       "</div>"
      ],
      "text/plain": [
       "  acidity_levels   quality\n",
       "0           High  5.783343\n",
       "1     Moderately  5.784540\n",
       "2         Medium  5.850832\n",
       "3            Low  5.859593"
      ]
     },
     "execution_count": 177,
     "metadata": {},
     "output_type": "execute_result"
    }
   ],
   "source": [
    "# Find the mean quality of each acidity level with groupby\n",
    "df.groupby('acidity_levels', as_index=False)['quality'].mean()"
   ]
  },
  {
   "cell_type": "code",
   "execution_count": 178,
   "metadata": {},
   "outputs": [],
   "source": [
    "# Save changes for the next section\n",
    "df.to_csv('./data/winequality_edited.csv', index=False)"
   ]
  },
  {
   "cell_type": "markdown",
   "metadata": {},
   "source": [
    "# Pandas Query\n",
    "\n",
    "Another useful function that we’re going to use is pandas' query function.\n",
    "\n",
    "We selected rows in a dataframe by indexing with a mask. Here are those same examples, along with equivalent statements that use `query()`.\n",
    "\n",
    "```python\n",
    "# selecting malignant records in cancer data\n",
    "df_m = df[df['diagnosis'] == 'M']\n",
    "df_m = df.query('diagnosis == \"M\"')\n",
    "\n",
    "# selecting records of people making over $50K\n",
    "df_a = df[df['income'] == ' >50K']\n",
    "df_a = df.query('income == \" >50K\"')\n",
    "```\n",
    "\n",
    "The examples above filtered columns containing strings. You can also use query to filter columns containing numeric data like this.\n",
    "\n",
    "```python\n",
    "# selecting records in cancer data with radius greater than the median\n",
    "df_h = df[df['radius'] > 13.375]\n",
    "df_h = df.query('radius > 13.375')\n",
    "```"
   ]
  },
  {
   "cell_type": "markdown",
   "metadata": {},
   "source": [
    "## Example using Query"
   ]
  },
  {
   "cell_type": "code",
   "execution_count": 180,
   "metadata": {},
   "outputs": [
    {
     "data": {
      "text/html": [
       "<div>\n",
       "<style scoped>\n",
       "    .dataframe tbody tr th:only-of-type {\n",
       "        vertical-align: middle;\n",
       "    }\n",
       "\n",
       "    .dataframe tbody tr th {\n",
       "        vertical-align: top;\n",
       "    }\n",
       "\n",
       "    .dataframe thead th {\n",
       "        text-align: right;\n",
       "    }\n",
       "</style>\n",
       "<table border=\"1\" class=\"dataframe\">\n",
       "  <thead>\n",
       "    <tr style=\"text-align: right;\">\n",
       "      <th></th>\n",
       "      <th>fixed_acidity</th>\n",
       "      <th>volatile_acidity</th>\n",
       "      <th>citric_acid</th>\n",
       "      <th>residual_sugar</th>\n",
       "      <th>chlorides</th>\n",
       "      <th>free_sulfur_dioxide</th>\n",
       "      <th>total_sulfur_dioxide</th>\n",
       "      <th>density</th>\n",
       "      <th>pH</th>\n",
       "      <th>sulphates</th>\n",
       "      <th>alcohol</th>\n",
       "      <th>quality</th>\n",
       "      <th>color</th>\n",
       "      <th>acidity_levels</th>\n",
       "    </tr>\n",
       "  </thead>\n",
       "  <tbody>\n",
       "    <tr>\n",
       "      <th>0</th>\n",
       "      <td>7.4</td>\n",
       "      <td>0.70</td>\n",
       "      <td>0.00</td>\n",
       "      <td>1.9</td>\n",
       "      <td>0.076</td>\n",
       "      <td>11.0</td>\n",
       "      <td>34.0</td>\n",
       "      <td>0.9978</td>\n",
       "      <td>3.51</td>\n",
       "      <td>0.56</td>\n",
       "      <td>9.4</td>\n",
       "      <td>5</td>\n",
       "      <td>red</td>\n",
       "      <td>Low</td>\n",
       "    </tr>\n",
       "    <tr>\n",
       "      <th>1</th>\n",
       "      <td>7.8</td>\n",
       "      <td>0.88</td>\n",
       "      <td>0.00</td>\n",
       "      <td>2.6</td>\n",
       "      <td>0.098</td>\n",
       "      <td>25.0</td>\n",
       "      <td>67.0</td>\n",
       "      <td>0.9968</td>\n",
       "      <td>3.20</td>\n",
       "      <td>0.68</td>\n",
       "      <td>9.8</td>\n",
       "      <td>5</td>\n",
       "      <td>red</td>\n",
       "      <td>Moderately</td>\n",
       "    </tr>\n",
       "    <tr>\n",
       "      <th>2</th>\n",
       "      <td>7.8</td>\n",
       "      <td>0.76</td>\n",
       "      <td>0.04</td>\n",
       "      <td>2.3</td>\n",
       "      <td>0.092</td>\n",
       "      <td>15.0</td>\n",
       "      <td>54.0</td>\n",
       "      <td>0.9970</td>\n",
       "      <td>3.26</td>\n",
       "      <td>0.65</td>\n",
       "      <td>9.8</td>\n",
       "      <td>5</td>\n",
       "      <td>red</td>\n",
       "      <td>Medium</td>\n",
       "    </tr>\n",
       "    <tr>\n",
       "      <th>3</th>\n",
       "      <td>11.2</td>\n",
       "      <td>0.28</td>\n",
       "      <td>0.56</td>\n",
       "      <td>1.9</td>\n",
       "      <td>0.075</td>\n",
       "      <td>17.0</td>\n",
       "      <td>60.0</td>\n",
       "      <td>0.9980</td>\n",
       "      <td>3.16</td>\n",
       "      <td>0.58</td>\n",
       "      <td>9.8</td>\n",
       "      <td>6</td>\n",
       "      <td>red</td>\n",
       "      <td>Moderately</td>\n",
       "    </tr>\n",
       "    <tr>\n",
       "      <th>4</th>\n",
       "      <td>7.4</td>\n",
       "      <td>0.70</td>\n",
       "      <td>0.00</td>\n",
       "      <td>1.9</td>\n",
       "      <td>0.076</td>\n",
       "      <td>11.0</td>\n",
       "      <td>34.0</td>\n",
       "      <td>0.9978</td>\n",
       "      <td>3.51</td>\n",
       "      <td>0.56</td>\n",
       "      <td>9.4</td>\n",
       "      <td>5</td>\n",
       "      <td>red</td>\n",
       "      <td>Low</td>\n",
       "    </tr>\n",
       "  </tbody>\n",
       "</table>\n",
       "</div>"
      ],
      "text/plain": [
       "   fixed_acidity  volatile_acidity  citric_acid  residual_sugar  ...  alcohol  quality  color  acidity_levels\n",
       "0            7.4              0.70         0.00             1.9  ...      9.4        5    red             Low\n",
       "1            7.8              0.88         0.00             2.6  ...      9.8        5    red      Moderately\n",
       "2            7.8              0.76         0.04             2.3  ...      9.8        5    red          Medium\n",
       "3           11.2              0.28         0.56             1.9  ...      9.8        6    red      Moderately\n",
       "4            7.4              0.70         0.00             1.9  ...      9.4        5    red             Low\n",
       "\n",
       "[5 rows x 14 columns]"
      ]
     },
     "execution_count": 180,
     "metadata": {},
     "output_type": "execute_result"
    }
   ],
   "source": [
    "# Load data\n",
    "import pandas as pd\n",
    "df = pd.read_csv('./data/winequality_edited.csv')\n",
    "\n",
    "df.head()"
   ]
  },
  {
   "cell_type": "code",
   "execution_count": 197,
   "metadata": {},
   "outputs": [
    {
     "name": "stdout",
     "output_type": "stream",
     "text": [
      "median_alcohol: 10.3\n"
     ]
    }
   ],
   "source": [
    "# get the median amount of alcohol content\n",
    "median_alcohol = df['alcohol'].median()\n",
    "print('median_alcohol:', median_alcohol)"
   ]
  },
  {
   "cell_type": "code",
   "execution_count": 193,
   "metadata": {},
   "outputs": [
    {
     "data": {
      "text/plain": [
       "True"
      ]
     },
     "execution_count": 193,
     "metadata": {},
     "output_type": "execute_result"
    }
   ],
   "source": [
    "# select samples with alcohol content less than the median\n",
    "query_low_alcohol_median = 'alcohol < {}'.format(median_alcohol)\n",
    "low_alcohol = df.query(query_low_alcohol_median)\n",
    "\n",
    "# select samples with alcohol content greater than or equal to the median\n",
    "query_high_alcohol_median = 'alcohol >= {}'.format(median_alcohol)\n",
    "high_alcohol = df.query(query_high_alcohol_median)\n",
    "\n",
    "# ensure these queries included each sample exactly once\n",
    "num_samples = df.shape[0]\n",
    "num_samples == low_alcohol['quality'].count() + high_alcohol['quality'].count() # should be True"
   ]
  },
  {
   "cell_type": "code",
   "execution_count": 201,
   "metadata": {
    "scrolled": true
   },
   "outputs": [
    {
     "name": "stdout",
     "output_type": "stream",
     "text": [
      "mean_quality_low_alcohol: 5.475920679886686\n",
      "mean_quality_high_alcohol: 6.146084337349397\n"
     ]
    }
   ],
   "source": [
    "# get mean quality rating for the low alcohol and high alcohol groups\n",
    "mean_quality_low_alcohol = low_alcohol['quality'].mean()\n",
    "mean_quality_high_alcohol = high_alcohol['quality'].mean()\n",
    "\n",
    "print('mean_quality_low_alcohol:', mean_quality_low_alcohol)\n",
    "print('mean_quality_high_alcohol:', mean_quality_high_alcohol)"
   ]
  },
  {
   "cell_type": "code",
   "execution_count": 199,
   "metadata": {},
   "outputs": [
    {
     "name": "stdout",
     "output_type": "stream",
     "text": [
      "median_residual_sugar: 3.0\n"
     ]
    }
   ],
   "source": [
    "# get the median amount of residual sugar\n",
    "median_residual_sugar = df['residual_sugar'].median()\n",
    "print('median_residual_sugar:', median_residual_sugar)"
   ]
  },
  {
   "cell_type": "code",
   "execution_count": 194,
   "metadata": {},
   "outputs": [
    {
     "data": {
      "text/plain": [
       "True"
      ]
     },
     "execution_count": 194,
     "metadata": {},
     "output_type": "execute_result"
    }
   ],
   "source": [
    "# select samples with residual sugar less than the median\n",
    "query_low_sugar_median = 'residual_sugar < {}'.format(median_residual_sugar)\n",
    "low_sugar = df.query(query_low_sugar_median)\n",
    "\n",
    "# select samples with residual sugar greater than or equal to the median\n",
    "query_high_sugar_median = 'residual_sugar >= {}'.format(median_residual_sugar)\n",
    "high_sugar = df.query(query_high_sugar_median)\n",
    "\n",
    "# ensure these queries included each sample exactly once\n",
    "num_samples == low_sugar['quality'].count() + high_sugar['quality'].count() # should be True"
   ]
  },
  {
   "cell_type": "code",
   "execution_count": 205,
   "metadata": {
    "scrolled": true
   },
   "outputs": [
    {
     "name": "stdout",
     "output_type": "stream",
     "text": [
      "mean_quality_low_sugar: 5.808800743724822\n",
      "mean_quality_high_sugar: 5.82782874617737\n"
     ]
    }
   ],
   "source": [
    "# get mean quality rating for the low sugar and high sugar groups\n",
    "mean_quality_low_sugar = low_sugar['quality'].mean()\n",
    "mean_quality_high_sugar = high_sugar['quality'].mean()\n",
    "\n",
    "print('mean_quality_low_sugar:', mean_quality_low_sugar)\n",
    "print('mean_quality_high_sugar:', mean_quality_high_sugar)"
   ]
  },
  {
   "cell_type": "markdown",
   "metadata": {},
   "source": [
    "# Type & Quality Plot with Matplotlib\n",
    "\n",
    "You can make aesthetically pleasing data visualizations with [seaborn](https://seaborn.pydata.org/). Here are some cool [examples](https://seaborn.pydata.org/examples/index.html)."
   ]
  },
  {
   "cell_type": "code",
   "execution_count": 287,
   "metadata": {},
   "outputs": [],
   "source": [
    "import pandas as pd\n",
    "%matplotlib inline\n",
    "\n",
    "wine_df = pd.read_csv('./data/winequality_edited.csv')"
   ]
  },
  {
   "cell_type": "code",
   "execution_count": 288,
   "metadata": {},
   "outputs": [
    {
     "data": {
      "image/png": "[encoded data removed]",
      "text/plain": [
       "<Figure size 432x288 with 1 Axes>"
      ]
     },
     "metadata": {
      "needs_background": "light"
     },
     "output_type": "display_data"
    }
   ],
   "source": [
    "plt_title = 'Average Wine Quality by Color'\n",
    "plt_colors = ['red', 'white']\n",
    "wine_df.groupby('color')['quality'].mean().plot(kind='bar', title=plt_title, color=plt_colors, alpha=.8);"
   ]
  },
  {
   "cell_type": "markdown",
   "metadata": {},
   "source": [
    "We also do not want white bar disappearing into a white background. At this point we can not get away with using only `pandas`, so we need to add `matplotlib` and addicionally import `seaborn` for more aesthetically pleasing than standard `matplotlib`."
   ]
  },
  {
   "cell_type": "code",
   "execution_count": 285,
   "metadata": {},
   "outputs": [
    {
     "data": {
      "image/png": "[encoded data removed]",
      "text/plain": [
       "<Figure size 432x288 with 1 Axes>"
      ]
     },
     "metadata": {
      "needs_background": "light"
     },
     "output_type": "display_data"
    }
   ],
   "source": [
    "import pandas as pd\n",
    "import matplotlib.pyplot as plt\n",
    "import seaborn as sns\n",
    "%matplotlib inline\n",
    "\n",
    "wine_df = pd.read_csv('./data/winequality_edited.csv')\n",
    "\n",
    "plt_title = 'Average Wine Quality by Color'\n",
    "plt_colors = ['red', 'white']\n",
    "plt_xlabel = 'Color'\n",
    "plt_ylabel = 'Quality'\n",
    "color_means = wine_df.groupby('color')['quality'].mean()\n",
    "\n",
    "color_means.plot(kind='bar', title=plt_title, color=plt_colors, alpha=.8)\n",
    "plt.xlabel(plt_xlabel, fontsize=18)\n",
    "plt.ylabel(plt_ylabel, fontsize=18)\n",
    "sns.set_style('darkgrid')"
   ]
  },
  {
   "cell_type": "markdown",
   "metadata": {},
   "source": [
    "The graph shows that white wine has slightly higher average quality ratings and would be nice if we could get moew details on where that's coming from. Let's put more details in bar chart."
   ]
  },
  {
   "cell_type": "code",
   "execution_count": 262,
   "metadata": {},
   "outputs": [
    {
     "data": {
      "image/png": "[encoded data removed]",
      "text/plain": [
       "<Figure size 432x288 with 1 Axes>"
      ]
     },
     "metadata": {},
     "output_type": "display_data"
    }
   ],
   "source": [
    "counts = wine_df.groupby(['quality', 'color'])['color'].count()\n",
    "\n",
    "plt_title = 'Counts by Wine Color and Quality'\n",
    "plt_xlabel = 'Quality and Color'\n",
    "plt_ylabel = 'Count'\n",
    "plt_colors = ['red', 'white']\n",
    "\n",
    "counts.plot(kind='bar', title=plt_title, color=plt_colors, alpha=.8)\n",
    "plt.xlabel(plt_xlabel, fontsize=18)\n",
    "plt.ylabel(plt_ylabel, fontsize=18)\n",
    "sns.set_style('darkgrid')"
   ]
  },
  {
   "cell_type": "markdown",
   "metadata": {},
   "source": [
    "In the graph are several things that can improve at this plot.\n",
    "* There is more white than red samples in DataFrame. Need to balance out to a fair comparison."
   ]
  },
  {
   "cell_type": "code",
   "execution_count": 269,
   "metadata": {},
   "outputs": [
    {
     "data": {
      "image/png": "[encoded data removed]",
      "text/plain": [
       "<Figure size 432x288 with 1 Axes>"
      ]
     },
     "metadata": {},
     "output_type": "display_data"
    }
   ],
   "source": [
    "counts = wine_df.groupby(['quality', 'color'])['color'].count()\n",
    "totals = wine_df.groupby('color')['color'].count()\n",
    "\n",
    "proportion = counts/totals\n",
    "\n",
    "plt_title = 'Counts by Wine Color and Quality'\n",
    "plt_xlabel = 'Quality and Color'\n",
    "plt_ylabel = 'Proportion'\n",
    "plt_colors = ['red', 'white']\n",
    "\n",
    "proportion.plot(kind='bar', title=plt_title, color=plt_colors, alpha=.8)\n",
    "plt.xlabel(plt_xlabel, fontsize=18)\n",
    "plt.ylabel(plt_ylabel, fontsize=18)\n",
    "sns.set_style('darkgrid')"
   ]
  },
  {
   "cell_type": "markdown",
   "metadata": {},
   "source": [
    "* Missing a spot for the red sample with a quality rating of nine."
   ]
  },
  {
   "cell_type": "code",
   "execution_count": 330,
   "metadata": {},
   "outputs": [],
   "source": [
    "# get counts for each rating and color\n",
    "color_counts = wine_df.groupby(['color', 'quality']).count()['pH']\n",
    "\n",
    "# get total counts for each color\n",
    "color_totals = wine_df.groupby('color').count()['pH']\n",
    "\n",
    "# get proportions by dividing red rating counts by total # of red samples\n",
    "red_proportions = color_counts['red'] / color_totals['red']\n",
    "\n",
    "# get proportions by dividing white rating counts by total # of white samples\n",
    "white_proportions = color_counts['white'] / color_totals['white']\n",
    "\n",
    "red_proportions['9'] = 0"
   ]
  },
  {
   "cell_type": "markdown",
   "metadata": {},
   "source": [
    "* x-axis look messy and it would be nicer to have the red and white bar for each rating next to each other. We can use pyplot's [bar](https://matplotlib.org/api/pyplot_api.html#matplotlib.pyplot.bar) function for this."
   ]
  },
  {
   "cell_type": "code",
   "execution_count": 344,
   "metadata": {},
   "outputs": [
    {
     "data": {
      "image/png": "[encoded data removed]",
      "text/plain": [
       "<Figure size 432x288 with 1 Axes>"
      ]
     },
     "metadata": {},
     "output_type": "display_data"
    }
   ],
   "source": [
    "# Set the x-axis location for each rating group and width of each bar.\n",
    "ind = np.arange(len(red_proportions))  # the x locations for the groups\n",
    "width = 0.5  # the width of the bars\n",
    "\n",
    "# plot bars\n",
    "red_bars = plt.bar(ind, red_proportions, width, color='r', alpha=.7, label='Red Wine')\n",
    "white_bars = plt.bar(ind + width, white_proportions, width, color='w', alpha=.7, label='White Wine')\n",
    "\n",
    "# title and labels\n",
    "plt.ylabel('Proportion')\n",
    "plt.xlabel('Quality')\n",
    "plt.title('Proportion by Wine Color and Quality')\n",
    "locations = ind + width / 2  # xtick locations\n",
    "labels = ['3', '4', '5', '6', '7', '8', '9']  # xtick labels\n",
    "plt.xticks(locations, labels)\n",
    "\n",
    "# legend\n",
    "plt.legend();"
   ]
  },
  {
   "cell_type": "code",
   "execution_count": null,
   "metadata": {},
   "outputs": [],
   "source": []
  }
 ],
 "metadata": {
  "kernelspec": {
   "display_name": "Python 3",
   "language": "python",
   "name": "python3"
  },
  "language_info": {
   "codemirror_mode": {
    "name": "ipython",
    "version": 3
   },
   "file_extension": ".py",
   "mimetype": "text/x-python",
   "name": "python",
   "nbconvert_exporter": "python",
   "pygments_lexer": "ipython3",
   "version": "3.8.2"
  },
  "toc": {
   "base_numbering": 1,
   "nav_menu": {},
   "number_sections": true,
   "sideBar": true,
   "skip_h1_title": false,
   "title_cell": "Table of Contents",
   "title_sidebar": "Contents",
   "toc_cell": true,
   "toc_position": {},
   "toc_section_display": true,
   "toc_window_display": false
  }
 },
 "nbformat": 4,
 "nbformat_minor": 4
}
