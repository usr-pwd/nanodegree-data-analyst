{
 "cells": [
  {
   "cell_type": "markdown",
   "metadata": {
    "toc": true
   },
   "source": [
    "<h1>Table of Contents<span class=\"tocSkip\"></span></h1>\n",
    "<div class=\"toc\"><ul class=\"toc-item\"><li><span><a href=\"#What-are-Jupyter-notebooks?\" data-toc-modified-id=\"What-are-Jupyter-notebooks?-1\"><span class=\"toc-item-num\">1&nbsp;&nbsp;</span>What are Jupyter notebooks?</a></span></li><li><span><a href=\"#How-notebooks-work\" data-toc-modified-id=\"How-notebooks-work-2\"><span class=\"toc-item-num\">2&nbsp;&nbsp;</span>How notebooks work</a></span></li><li><span><a href=\"#Installing-Jupyter-Notebook\" data-toc-modified-id=\"Installing-Jupyter-Notebook-3\"><span class=\"toc-item-num\">3&nbsp;&nbsp;</span>Installing Jupyter Notebook</a></span></li><li><span><a href=\"#Launching-the-notebook-server\" data-toc-modified-id=\"Launching-the-notebook-server-4\"><span class=\"toc-item-num\">4&nbsp;&nbsp;</span>Launching the notebook server</a></span></li><li><span><a href=\"#Shutting-down-Jupyter\" data-toc-modified-id=\"Shutting-down-Jupyter-5\"><span class=\"toc-item-num\">5&nbsp;&nbsp;</span>Shutting down Jupyter</a></span></li><li><span><a href=\"#Notebook-interface\" data-toc-modified-id=\"Notebook-interface-6\"><span class=\"toc-item-num\">6&nbsp;&nbsp;</span>Notebook interface</a></span><ul class=\"toc-item\"><li><span><a href=\"#The-tool-bar\" data-toc-modified-id=\"The-tool-bar-6.1\"><span class=\"toc-item-num\">6.1&nbsp;&nbsp;</span>The tool bar</a></span></li><li><span><a href=\"#Command-palette\" data-toc-modified-id=\"Command-palette-6.2\"><span class=\"toc-item-num\">6.2&nbsp;&nbsp;</span>Command palette</a></span></li></ul></li><li><span><a href=\"#Markdown-cells\" data-toc-modified-id=\"Markdown-cells-7\"><span class=\"toc-item-num\">7&nbsp;&nbsp;</span>Markdown cells</a></span></li><li><span><a href=\"#Keyboard-shortcuts\" data-toc-modified-id=\"Keyboard-shortcuts-8\"><span class=\"toc-item-num\">8&nbsp;&nbsp;</span>Keyboard shortcuts</a></span></li><li><span><a href=\"#Magic-keywords\" data-toc-modified-id=\"Magic-keywords-9\"><span class=\"toc-item-num\">9&nbsp;&nbsp;</span>Magic keywords</a></span></li><li><span><a href=\"#Converting-notebooks\" data-toc-modified-id=\"Converting-notebooks-10\"><span class=\"toc-item-num\">10&nbsp;&nbsp;</span>Converting notebooks</a></span></li><li><span><a href=\"#Creating-a-slideshow\" data-toc-modified-id=\"Creating-a-slideshow-11\"><span class=\"toc-item-num\">11&nbsp;&nbsp;</span>Creating a slideshow</a></span><ul class=\"toc-item\"><li><span><a href=\"#Running-the-slideshow\" data-toc-modified-id=\"Running-the-slideshow-11.1\"><span class=\"toc-item-num\">11.1&nbsp;&nbsp;</span>Running the slideshow</a></span></li></ul></li></ul></div>"
   ]
  },
  {
   "cell_type": "markdown",
   "metadata": {},
   "source": [
    "# What are Jupyter notebooks?\n",
    "\n",
    "The notebook is a web application that allows you to combine explanatory text, math equations, code, and visualizations all in one easily sharable document. [Here](https://github.com/mcleonard/blog_posts/blob/master/body_fat_percentage.ipynb) you can see a show off the features of notebooks.\n",
    "\n",
    "You can render notebooks on GitHub or http://nbviewer.jupyter.org/ from notebooks stored elsewhere.\n",
    "\n",
    "After all, code is written for humans, not for computers. Notebooks provide exactly this capability."
   ]
  },
  {
   "cell_type": "markdown",
   "metadata": {},
   "source": [
    "# How notebooks work\n",
    "\n",
    "Jupyter notebooks grew out of the IPython project started by Fernando Perez. IPython is an interactive shell, similar to the normal Python shell but with great features like syntax highlighting and code completion. Originally, notebooks worked by sending messages from the web app (the notebook you see in the browser) to an IPython kernel (an IPython application running in the background). The kernel executed the code, then sent it back to the notebook.\n",
    "\n",
    "When you save the notebook, it is written to the server as a JSON file with a `.ipynb` file extension.\n",
    "\n",
    "The great part of this architecture is that the kernel doesn't need to run Python.\n",
    "\n",
    "**Jupyter** comes from the combination of **Ju**lia, **Pyt**hon, and **R**."
   ]
  },
  {
   "cell_type": "markdown",
   "metadata": {},
   "source": [
    "# Installing Jupyter Notebook\n",
    "\n",
    "To install Jupyter notebooks in a conda environment, use `conda install jupyter notebook` or `pip install jupyter notebook`"
   ]
  },
  {
   "cell_type": "markdown",
   "metadata": {},
   "source": [
    "# Launching the notebook server\n",
    "\n",
    "In your terminal or console type `jupyter notebook`. By default, the notebook server runs at `http://localhost:8888`.\n",
    "\n",
    "You should consider installing Notebook Conda to help manage your environments. Run the following terminal command: `conda install nb_conda`\n"
   ]
  },
  {
   "cell_type": "markdown",
   "metadata": {},
   "source": [
    "# Shutting down Jupyter\n",
    "\n",
    "You can shutdown individual notebooks by marking the checkbox next to the notebook on the server home and clicking \"Shutdown.\"\n",
    "\n",
    "You can shutdown the entire server by pressing `Control + C` twice in the terminal.\n",
    "\n",
    "In all the cases make sure your work is saved!"
   ]
  },
  {
   "cell_type": "markdown",
   "metadata": {},
   "source": [
    "# Notebook interface\n",
    "\n",
    "* Cells are where you write and run your code. You can also change it to render Markdown, a popular formatting syntax for writing web content\n",
    " * When you run a code cell, the output is displayed below the cell\n",
    " * The cell also gets numbered, you see `In [1]:` on the left\n",
    " \n",
    "## The tool bar\n",
    "* The floppy disk saves the notebook\n",
    "* The `+` button creates a new cell\n",
    "* Then, buttons to cut, copy, and paste cells\n",
    "* Run, stop, restart the kernel\n",
    "* Cell type: code, Markdown, raw text, and header\n",
    "* Command palette\n",
    "* Cell toolbar, gives various options for cells such as using them as slides\n",
    "\n",
    "## Command palette\n",
    "Useful as shortcut. The little keyboard is the command palette. This will bring up a panel with a search bar where you can search for various commands."
   ]
  },
  {
   "cell_type": "markdown",
   "metadata": {},
   "source": [
    "# Markdown cells\n",
    "\n",
    "Markdown is a formatting syntax that allows you to include links, style text as bold or italicized, and format code.\n",
    "\n",
    "Checkout [here](https://daringfireball.net/projects/markdown/syntax) all markdown syntax."
   ]
  },
  {
   "cell_type": "markdown",
   "metadata": {},
   "source": [
    "# Keyboard shortcuts\n",
    "\n",
    "Press `Esc` -> `h`"
   ]
  },
  {
   "cell_type": "markdown",
   "metadata": {},
   "source": [
    "# Magic keywords\n",
    "\n",
    "Magic keywords are special commands you can run in cells that let you control the notebook itself or perform system calls such as changing directories.\n",
    "\n",
    "Magic commands are preceded with one or two percent signs (`%` or `%%`) for line magics and cell magics, respectively. Line magics apply only to the line the magic command is written on, while cell magics apply to the whole cell.\n",
    "\n",
    "**NOTE:** These magic keywords are specific to the normal Python kernel. If you are using other kernels, these most likely won't work.\n",
    "\n",
    "* Examples\n",
    " * `%timneit` is a magic command to time how long it takes for a function to run\n",
    " * `%%timeit` as above but if you want to time how long it takes for a whole cell to run\n",
    " * `%pdb` interactive debugger\n",
    " \n",
    "[Here](https://ipython.readthedocs.io/en/stable/interactive/magics.html) of all available magic commands."
   ]
  },
  {
   "cell_type": "markdown",
   "metadata": {},
   "source": [
    "# Converting notebooks\n",
    "\n",
    "Since notebooks are JSON, it is simple to convert them to other formats.\n",
    "\n",
    "Example: convert a notebook to an HTML file `jupyter nbconvert --to html notebook.ipynb`.\n",
    "    \n",
    "[Here](https://nbconvert.readthedocs.io/en/latest/usage.html) all supported output formats."
   ]
  },
  {
   "cell_type": "markdown",
   "metadata": {},
   "source": [
    "# Creating a slideshow\n",
    "\n",
    "The slides are created in notebooks like normal, but you'll need to designate which cells are slides and the type of slide the cell will be. In the menu bar, click `View > Cell Toolbar > Slideshow` to bring up the slide cell menu on each cell.\n",
    "* **Slides** are full slides that you move through left to right\n",
    "* **Sub-slides** show up in the slideshow by pressing up or down\n",
    "* **Fragments** are hidden at first, then appear with a button press\n",
    "* **Skip** skip cells in the slideshow\n",
    "* **Notes** leaves the cell as speaker notes\n",
    "\n"
   ]
  },
  {
   "cell_type": "markdown",
   "metadata": {},
   "source": [
    "## Running the slideshow\n",
    "\n",
    "To create the slideshow from the notebook file `jupyter nbconvert notebook.ipynb --to slides`\n",
    "\n",
    "To open up the slideshow in your browser immediately use `jupyter nbconvert notebook.ipynb --to slides --post serve`"
   ]
  },
  {
   "cell_type": "code",
   "execution_count": null,
   "metadata": {},
   "outputs": [],
   "source": []
  }
 ],
 "metadata": {
  "kernelspec": {
   "display_name": "Python 3",
   "language": "python",
   "name": "python3"
  },
  "language_info": {
   "codemirror_mode": {
    "name": "ipython",
    "version": 3
   },
   "file_extension": ".py",
   "mimetype": "text/x-python",
   "name": "python",
   "nbconvert_exporter": "python",
   "pygments_lexer": "ipython3",
   "version": "3.7.6"
  },
  "toc": {
   "base_numbering": 1,
   "nav_menu": {},
   "number_sections": true,
   "sideBar": true,
   "skip_h1_title": false,
   "title_cell": "Table of Contents",
   "title_sidebar": "Contents",
   "toc_cell": true,
   "toc_position": {},
   "toc_section_display": true,
   "toc_window_display": false
  }
 },
 "nbformat": 4,
 "nbformat_minor": 4
}
